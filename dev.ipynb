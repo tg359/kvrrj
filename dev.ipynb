{
 "cells": [
  {
   "cell_type": "code",
   "execution_count": 4,
   "metadata": {},
   "outputs": [],
   "source": [
    "from ladybug.epw import EPW\n",
    "from kvrrj.wind import Wind\n",
    "from kvrrj.solar import Solar\n",
    "import numpy as np\n",
    "import pandas as pd\n",
    "\n",
    "# riyadh\n",
    "epw_file = r\"C:\\Users\\tgerrish\\OneDrive - Buro Happold\\Weather files\\epws\\ARE_SH_Sharjah.Intl.AP.411960_TMYx.2007-2021.epw\"\n",
    "epw = EPW(epw_file)\n",
    "\n",
    "wind = Wind.from_epw(epw_file)\n",
    "solar = Solar.from_epw(epw_file)\n"
   ]
  },
  {
   "cell_type": "code",
   "execution_count": 12,
   "metadata": {},
   "outputs": [
    {
     "ename": "ValueError",
     "evalue": "('absolute offset is too large', 1680)",
     "output_type": "error",
     "traceback": [
      "\u001b[1;31m---------------------------------------------------------------------------\u001b[0m",
      "\u001b[1;31mValueError\u001b[0m                                Traceback (most recent call last)",
      "Cell \u001b[1;32mIn[12], line 6\u001b[0m\n\u001b[0;32m      3\u001b[0m epw_file \u001b[38;5;241m=\u001b[39m \u001b[38;5;124mr\u001b[39m\u001b[38;5;124m\"\u001b[39m\u001b[38;5;124mC:\u001b[39m\u001b[38;5;124m\\\u001b[39m\u001b[38;5;124mUsers\u001b[39m\u001b[38;5;124m\\\u001b[39m\u001b[38;5;124mtgerrish\u001b[39m\u001b[38;5;124m\\\u001b[39m\u001b[38;5;124mOneDrive - Buro Happold\u001b[39m\u001b[38;5;124m\\\u001b[39m\u001b[38;5;124mWeather files\u001b[39m\u001b[38;5;124m\\\u001b[39m\u001b[38;5;124mepws\u001b[39m\u001b[38;5;124m\\\u001b[39m\u001b[38;5;124mARE_SH_Sharjah.Intl.AP.411960_TMYx.2007-2021.epw\u001b[39m\u001b[38;5;124m\"\u001b[39m\n\u001b[0;32m      4\u001b[0m epw \u001b[38;5;241m=\u001b[39m EPW(epw_file)\n\u001b[1;32m----> 6\u001b[0m \u001b[43m_timezone_valid_for_lat_long\u001b[49m\u001b[43m(\u001b[49m\u001b[43mepw\u001b[49m\u001b[38;5;241;43m.\u001b[39;49m\u001b[43mlocation\u001b[49m\u001b[38;5;241;43m.\u001b[39;49m\u001b[43mlatitude\u001b[49m\u001b[43m,\u001b[49m\u001b[43m \u001b[49m\u001b[43mepw\u001b[49m\u001b[38;5;241;43m.\u001b[39;49m\u001b[43mlocation\u001b[49m\u001b[38;5;241;43m.\u001b[39;49m\u001b[43mlongitude\u001b[49m\u001b[43m,\u001b[49m\u001b[43m \u001b[49m\u001b[38;5;241;43m28\u001b[39;49m\u001b[43m)\u001b[49m\n",
      "File \u001b[1;32m~\\Documents\\GitHub\\target_dir\\kvrrj\\src\\kvrrj\\ladybug\\util.py:554\u001b[0m, in \u001b[0;36m_timezone_valid_for_lat_long\u001b[1;34m(latitude, longitude, tz)\u001b[0m\n\u001b[0;32m    552\u001b[0m     \u001b[38;5;28;01mraise\u001b[39;00m \u001b[38;5;167;01mValueError\u001b[39;00m(\u001b[38;5;124m\"\u001b[39m\u001b[38;5;124mLongitude must be a number.\u001b[39m\u001b[38;5;124m\"\u001b[39m)\n\u001b[0;32m    553\u001b[0m \u001b[38;5;28;01mif\u001b[39;00m \u001b[38;5;28misinstance\u001b[39m(tz, (\u001b[38;5;28mfloat\u001b[39m, \u001b[38;5;28mint\u001b[39m)):\n\u001b[1;32m--> 554\u001b[0m     tz \u001b[38;5;241m=\u001b[39m \u001b[43mpytz\u001b[49m\u001b[38;5;241;43m.\u001b[39;49m\u001b[43mFixedOffset\u001b[49m\u001b[43m(\u001b[49m\u001b[43mtz\u001b[49m\u001b[43m \u001b[49m\u001b[38;5;241;43m*\u001b[39;49m\u001b[43m \u001b[49m\u001b[38;5;241;43m60\u001b[39;49m\u001b[43m)\u001b[49m\n\u001b[0;32m    555\u001b[0m \u001b[38;5;28;01mif\u001b[39;00m \u001b[38;5;129;01mnot\u001b[39;00m \u001b[38;5;28misinstance\u001b[39m(tz, tzinfo):\n\u001b[0;32m    556\u001b[0m     \u001b[38;5;28;01mraise\u001b[39;00m \u001b[38;5;167;01mValueError\u001b[39;00m(\u001b[38;5;124m\"\u001b[39m\u001b[38;5;124mtz must be a tzinfo object.\u001b[39m\u001b[38;5;124m\"\u001b[39m)\n",
      "File \u001b[1;32mc:\\Users\\tgerrish\\Documents\\GitHub\\target_dir\\kvrrj\\.venv\\lib\\site-packages\\pytz\\__init__.py:500\u001b[0m, in \u001b[0;36mFixedOffset\u001b[1;34m(offset, _tzinfos)\u001b[0m\n\u001b[0;32m    494\u001b[0m info \u001b[38;5;241m=\u001b[39m _tzinfos\u001b[38;5;241m.\u001b[39mget(offset)\n\u001b[0;32m    495\u001b[0m \u001b[38;5;28;01mif\u001b[39;00m info \u001b[38;5;129;01mis\u001b[39;00m \u001b[38;5;28;01mNone\u001b[39;00m:\n\u001b[0;32m    496\u001b[0m     \u001b[38;5;66;03m# We haven't seen this one before. we need to save it.\u001b[39;00m\n\u001b[0;32m    497\u001b[0m \n\u001b[0;32m    498\u001b[0m     \u001b[38;5;66;03m# Use setdefault to avoid a race condition and make sure we have\u001b[39;00m\n\u001b[0;32m    499\u001b[0m     \u001b[38;5;66;03m# only one\u001b[39;00m\n\u001b[1;32m--> 500\u001b[0m     info \u001b[38;5;241m=\u001b[39m _tzinfos\u001b[38;5;241m.\u001b[39msetdefault(offset, \u001b[43m_FixedOffset\u001b[49m\u001b[43m(\u001b[49m\u001b[43moffset\u001b[49m\u001b[43m)\u001b[49m)\n\u001b[0;32m    502\u001b[0m \u001b[38;5;28;01mreturn\u001b[39;00m info\n",
      "File \u001b[1;32mc:\\Users\\tgerrish\\Documents\\GitHub\\target_dir\\kvrrj\\.venv\\lib\\site-packages\\pytz\\__init__.py:404\u001b[0m, in \u001b[0;36m_FixedOffset.__init__\u001b[1;34m(self, minutes)\u001b[0m\n\u001b[0;32m    402\u001b[0m \u001b[38;5;28;01mdef\u001b[39;00m\u001b[38;5;250m \u001b[39m\u001b[38;5;21m__init__\u001b[39m(\u001b[38;5;28mself\u001b[39m, minutes):\n\u001b[0;32m    403\u001b[0m     \u001b[38;5;28;01mif\u001b[39;00m \u001b[38;5;28mabs\u001b[39m(minutes) \u001b[38;5;241m>\u001b[39m\u001b[38;5;241m=\u001b[39m \u001b[38;5;241m1440\u001b[39m:\n\u001b[1;32m--> 404\u001b[0m         \u001b[38;5;28;01mraise\u001b[39;00m \u001b[38;5;167;01mValueError\u001b[39;00m(\u001b[38;5;124m\"\u001b[39m\u001b[38;5;124mabsolute offset is too large\u001b[39m\u001b[38;5;124m\"\u001b[39m, minutes)\n\u001b[0;32m    405\u001b[0m     \u001b[38;5;28mself\u001b[39m\u001b[38;5;241m.\u001b[39m_minutes \u001b[38;5;241m=\u001b[39m minutes\n\u001b[0;32m    406\u001b[0m     \u001b[38;5;28mself\u001b[39m\u001b[38;5;241m.\u001b[39m_offset \u001b[38;5;241m=\u001b[39m datetime\u001b[38;5;241m.\u001b[39mtimedelta(minutes\u001b[38;5;241m=\u001b[39mminutes)\n",
      "\u001b[1;31mValueError\u001b[0m: ('absolute offset is too large', 1680)"
     ]
    }
   ],
   "source": [
    "from kvrrj.ladybug.util import _timezone_valid_for_lat_long, EPW\n",
    "\n",
    "epw_file = r\"C:\\Users\\tgerrish\\OneDrive - Buro Happold\\Weather files\\epws\\ARE_SH_Sharjah.Intl.AP.411960_TMYx.2007-2021.epw\"\n",
    "epw = EPW(epw_file)\n",
    "\n",
    "_timezone_valid_for_lat_long(epw.location.latitude, epw.location.longitude, 28)"
   ]
  },
  {
   "cell_type": "code",
   "execution_count": 15,
   "metadata": {},
   "outputs": [
    {
     "data": {
      "text/plain": [
       "(20.56, 21.8, 23.75)"
      ]
     },
     "execution_count": 15,
     "metadata": {},
     "output_type": "execute_result"
    }
   ],
   "source": [
    "epw.monthly_ground_temperature[0.5].filter_by_months([1, 2, 3]).values"
   ]
  },
  {
   "cell_type": "code",
   "execution_count": null,
   "metadata": {},
   "outputs": [],
   "source": [
    "geo = ROOM.faces[1]\n",
    "kwargs = {}\n",
    "\n",
    "traces = []\n",
    "kwargs[\"facecolor\"] = to_plotly_color(to_ladybug_color(geo))\n",
    "# check for sub-faces, and split geometry if true\n",
    "if geo.has_sub_faces:\n",
    "    traces.append(to_plotly(geo.punched_geometry, **kwargs))\n",
    "else:\n",
    "    traces.append(to_plotly(geo, **kwargs))\n",
    "# print(ROOM.faces[0])\n",
    "# fig = go.Figure()\n",
    "# fig.add_trace(to_plotly(ROOM.faces[0]))\n",
    "# # fig.add_trace(to_plotly(ROOM.faces))\n",
    "# fig.show()\n",
    "traces\n"
   ]
  },
  {
   "cell_type": "code",
   "execution_count": null,
   "metadata": {},
   "outputs": [
    {
     "ename": "ValueError",
     "evalue": "Invalid property specified for object of type plotly.graph_objs.Scatter3d: 'color'\n\nDid you mean \"mode\"?\n\n    Valid properties:\n        connectgaps\n            Determines whether or not gaps (i.e. {nan} or missing\n            values) in the provided data arrays are connected.\n        customdata\n            Assigns extra data each datum. This may be useful when\n            listening to hover, click and selection events. Note\n            that, \"scatter\" traces also appends customdata items in\n            the markers DOM elements\n        customdatasrc\n            Sets the source reference on Chart Studio Cloud for\n            `customdata`.\n        error_x\n            :class:`plotly.graph_objects.scatter3d.ErrorX` instance\n            or dict with compatible properties\n        error_y\n            :class:`plotly.graph_objects.scatter3d.ErrorY` instance\n            or dict with compatible properties\n        error_z\n            :class:`plotly.graph_objects.scatter3d.ErrorZ` instance\n            or dict with compatible properties\n        hoverinfo\n            Determines which trace information appear on hover. If\n            `none` or `skip` are set, no information is displayed\n            upon hovering. But, if `none` is set, click and hover\n            events are still fired.\n        hoverinfosrc\n            Sets the source reference on Chart Studio Cloud for\n            `hoverinfo`.\n        hoverlabel\n            :class:`plotly.graph_objects.scatter3d.Hoverlabel`\n            instance or dict with compatible properties\n        hovertemplate\n            Template string used for rendering the information that\n            appear on hover box. Note that this will override\n            `hoverinfo`. Variables are inserted using %{variable},\n            for example \"y: %{y}\" as well as %{xother}, {%_xother},\n            {%_xother_}, {%xother_}. When showing info for several\n            points, \"xother\" will be added to those with different\n            x positions from the first point. An underscore before\n            or after \"(x|y)other\" will add a space on that side,\n            only when this field is shown. Numbers are formatted\n            using d3-format's syntax %{variable:d3-format}, for\n            example \"Price: %{y:$.2f}\".\n            https://github.com/d3/d3-format/tree/v1.4.5#d3-format\n            for details on the formatting syntax. Dates are\n            formatted using d3-time-format's syntax\n            %{variable|d3-time-format}, for example \"Day:\n            %{2019-01-01|%A}\". https://github.com/d3/d3-time-\n            format/tree/v2.2.3#locale_format for details on the\n            date formatting syntax. The variables available in\n            `hovertemplate` are the ones emitted as event data\n            described at this link\n            https://plotly.com/javascript/plotlyjs-events/#event-\n            data. Additionally, every attributes that can be\n            specified per-point (the ones that are `arrayOk: true`)\n            are available.  Anything contained in tag `<extra>` is\n            displayed in the secondary box, for example\n            \"<extra>{fullData.name}</extra>\". To hide the secondary\n            box completely, use an empty tag `<extra></extra>`.\n        hovertemplatesrc\n            Sets the source reference on Chart Studio Cloud for\n            `hovertemplate`.\n        hovertext\n            Sets text elements associated with each (x,y,z)\n            triplet. If a single string, the same string appears\n            over all the data points. If an array of string, the\n            items are mapped in order to the this trace's (x,y,z)\n            coordinates. To be seen, trace `hoverinfo` must contain\n            a \"text\" flag.\n        hovertextsrc\n            Sets the source reference on Chart Studio Cloud for\n            `hovertext`.\n        ids\n            Assigns id labels to each datum. These ids for object\n            constancy of data points during animation. Should be an\n            array of strings, not numbers or any other type.\n        idssrc\n            Sets the source reference on Chart Studio Cloud for\n            `ids`.\n        legend\n            Sets the reference to a legend to show this trace in.\n            References to these legends are \"legend\", \"legend2\",\n            \"legend3\", etc. Settings for these legends are set in\n            the layout, under `layout.legend`, `layout.legend2`,\n            etc.\n        legendgroup\n            Sets the legend group for this trace. Traces and shapes\n            part of the same legend group hide/show at the same\n            time when toggling legend items.\n        legendgrouptitle\n            :class:`plotly.graph_objects.scatter3d.Legendgrouptitle\n            ` instance or dict with compatible properties\n        legendrank\n            Sets the legend rank for this trace. Items and groups\n            with smaller ranks are presented on top/left side while\n            with \"reversed\" `legend.traceorder` they are on\n            bottom/right side. The default legendrank is 1000, so\n            that you can use ranks less than 1000 to place certain\n            items before all unranked items, and ranks greater than\n            1000 to go after all unranked items. When having\n            unranked or equal rank items shapes would be displayed\n            after traces i.e. according to their order in data and\n            layout.\n        legendwidth\n            Sets the width (in px or fraction) of the legend for\n            this trace.\n        line\n            :class:`plotly.graph_objects.scatter3d.Line` instance\n            or dict with compatible properties\n        marker\n            :class:`plotly.graph_objects.scatter3d.Marker` instance\n            or dict with compatible properties\n        meta\n            Assigns extra meta information associated with this\n            trace that can be used in various text attributes.\n            Attributes such as trace `name`, graph, axis and\n            colorbar `title.text`, annotation `text`\n            `rangeselector`, `updatemenues` and `sliders` `label`\n            text all support `meta`. To access the trace `meta`\n            values in an attribute in the same trace, simply use\n            `%{meta[i]}` where `i` is the index or key of the\n            `meta` item in question. To access trace `meta` in\n            layout attributes, use `%{data[n[.meta[i]}` where `i`\n            is the index or key of the `meta` and `n` is the trace\n            index.\n        metasrc\n            Sets the source reference on Chart Studio Cloud for\n            `meta`.\n        mode\n            Determines the drawing mode for this scatter trace. If\n            the provided `mode` includes \"text\" then the `text`\n            elements appear at the coordinates. Otherwise, the\n            `text` elements appear on hover. If there are less than\n            20 points and the trace is not stacked then the default\n            is \"lines+markers\". Otherwise, \"lines\".\n        name\n            Sets the trace name. The trace name appears as the\n            legend item and on hover.\n        opacity\n            Sets the opacity of the trace.\n        projection\n            :class:`plotly.graph_objects.scatter3d.Projection`\n            instance or dict with compatible properties\n        scene\n            Sets a reference between this trace's 3D coordinate\n            system and a 3D scene. If \"scene\" (the default value),\n            the (x,y,z) coordinates refer to `layout.scene`. If\n            \"scene2\", the (x,y,z) coordinates refer to\n            `layout.scene2`, and so on.\n        showlegend\n            Determines whether or not an item corresponding to this\n            trace is shown in the legend.\n        stream\n            :class:`plotly.graph_objects.scatter3d.Stream` instance\n            or dict with compatible properties\n        surfaceaxis\n            If \"-1\", the scatter points are not fill with a surface\n            If 0, 1, 2, the scatter points are filled with a\n            Delaunay surface about the x, y, z respectively.\n        surfacecolor\n            Sets the surface fill color.\n        text\n            Sets text elements associated with each (x,y,z)\n            triplet. If a single string, the same string appears\n            over all the data points. If an array of string, the\n            items are mapped in order to the this trace's (x,y,z)\n            coordinates. If trace `hoverinfo` contains a \"text\"\n            flag and \"hovertext\" is not set, these elements will be\n            seen in the hover labels.\n        textfont\n            Sets the text font.\n        textposition\n            Sets the positions of the `text` elements with respects\n            to the (x,y) coordinates.\n        textpositionsrc\n            Sets the source reference on Chart Studio Cloud for\n            `textposition`.\n        textsrc\n            Sets the source reference on Chart Studio Cloud for\n            `text`.\n        texttemplate\n            Template string used for rendering the information text\n            that appear on points. Note that this will override\n            `textinfo`. Variables are inserted using %{variable},\n            for example \"y: %{y}\". Numbers are formatted using\n            d3-format's syntax %{variable:d3-format}, for example\n            \"Price: %{y:$.2f}\".\n            https://github.com/d3/d3-format/tree/v1.4.5#d3-format\n            for details on the formatting syntax. Dates are\n            formatted using d3-time-format's syntax\n            %{variable|d3-time-format}, for example \"Day:\n            %{2019-01-01|%A}\". https://github.com/d3/d3-time-\n            format/tree/v2.2.3#locale_format for details on the\n            date formatting syntax. Every attributes that can be\n            specified per-point (the ones that are `arrayOk: true`)\n            are available.\n        texttemplatesrc\n            Sets the source reference on Chart Studio Cloud for\n            `texttemplate`.\n        uid\n            Assign an id to this trace, Use this to provide object\n            constancy between traces during animations and\n            transitions.\n        uirevision\n            Controls persistence of some user-driven changes to the\n            trace: `constraintrange` in `parcoords` traces, as well\n            as some `editable: true` modifications such as `name`\n            and `colorbar.title`. Defaults to `layout.uirevision`.\n            Note that other user-driven trace attribute changes are\n            controlled by `layout` attributes: `trace.visible` is\n            controlled by `layout.legend.uirevision`,\n            `selectedpoints` is controlled by\n            `layout.selectionrevision`, and `colorbar.(x|y)`\n            (accessible with `config: {editable: true}`) is\n            controlled by `layout.editrevision`. Trace changes are\n            tracked by `uid`, which only falls back on trace index\n            if no `uid` is provided. So if your app can add/remove\n            traces before the end of the `data` array, such that\n            the same trace has a different index, you can still\n            preserve user-driven changes if you give each trace a\n            `uid` that stays with it as it moves.\n        visible\n            Determines whether or not this trace is visible. If\n            \"legendonly\", the trace is not drawn, but can appear as\n            a legend item (provided that the legend itself is\n            visible).\n        x\n            Sets the x coordinates.\n        xcalendar\n            Sets the calendar system to use with `x` date data.\n        xhoverformat\n            Sets the hover text formatting rulefor `x`  using d3\n            formatting mini-languages which are very similar to\n            those in Python. For numbers, see:\n            https://github.com/d3/d3-format/tree/v1.4.5#d3-format.\n            And for dates see: https://github.com/d3/d3-time-\n            format/tree/v2.2.3#locale_format. We add two items to\n            d3's date formatter: \"%h\" for half of the year as a\n            decimal number as well as \"%{n}f\" for fractional\n            seconds with n digits. For example, *2016-10-13\n            09:15:23.456* with tickformat \"%H~%M~%S.%2f\" would\n            display *09~15~23.46*By default the values are\n            formatted using `xaxis.hoverformat`.\n        xsrc\n            Sets the source reference on Chart Studio Cloud for\n            `x`.\n        y\n            Sets the y coordinates.\n        ycalendar\n            Sets the calendar system to use with `y` date data.\n        yhoverformat\n            Sets the hover text formatting rulefor `y`  using d3\n            formatting mini-languages which are very similar to\n            those in Python. For numbers, see:\n            https://github.com/d3/d3-format/tree/v1.4.5#d3-format.\n            And for dates see: https://github.com/d3/d3-time-\n            format/tree/v2.2.3#locale_format. We add two items to\n            d3's date formatter: \"%h\" for half of the year as a\n            decimal number as well as \"%{n}f\" for fractional\n            seconds with n digits. For example, *2016-10-13\n            09:15:23.456* with tickformat \"%H~%M~%S.%2f\" would\n            display *09~15~23.46*By default the values are\n            formatted using `yaxis.hoverformat`.\n        ysrc\n            Sets the source reference on Chart Studio Cloud for\n            `y`.\n        z\n            Sets the z coordinates.\n        zcalendar\n            Sets the calendar system to use with `z` date data.\n        zhoverformat\n            Sets the hover text formatting rulefor `z`  using d3\n            formatting mini-languages which are very similar to\n            those in Python. For numbers, see:\n            https://github.com/d3/d3-format/tree/v1.4.5#d3-format.\n            And for dates see: https://github.com/d3/d3-time-\n            format/tree/v2.2.3#locale_format. We add two items to\n            d3's date formatter: \"%h\" for half of the year as a\n            decimal number as well as \"%{n}f\" for fractional\n            seconds with n digits. For example, *2016-10-13\n            09:15:23.456* with tickformat \"%H~%M~%S.%2f\" would\n            display *09~15~23.46*By default the values are\n            formatted using `zaxis.hoverformat`.\n        zsrc\n            Sets the source reference on Chart Studio Cloud for\n            `z`.\n        \nDid you mean \"mode\"?\n\nBad property path:\ncolor\n^^^^^",
     "output_type": "error",
     "traceback": [
      "\u001b[1;31m---------------------------------------------------------------------------\u001b[0m",
      "\u001b[1;31mValueError\u001b[0m                                Traceback (most recent call last)",
      "Cell \u001b[1;32mIn[29], line 18\u001b[0m\n\u001b[0;32m     14\u001b[0m             aperture: Aperture\n\u001b[0;32m     15\u001b[0m             shades\u001b[38;5;241m.\u001b[39mappend(aperture\u001b[38;5;241m.\u001b[39mlouvers_by_count(louver_count\u001b[38;5;241m=\u001b[39m\u001b[38;5;241m3\u001b[39m, depth\u001b[38;5;241m=\u001b[39m\u001b[38;5;241m0.1\u001b[39m))\n\u001b[1;32m---> 18\u001b[0m \u001b[43mto_plotly\u001b[49m\u001b[43m(\u001b[49m\u001b[43mROOM\u001b[49m\u001b[38;5;241;43m.\u001b[39;49m\u001b[43mfaces\u001b[49m\u001b[43m[\u001b[49m\u001b[38;5;241;43m1\u001b[39;49m\u001b[43m]\u001b[49m\u001b[43m)\u001b[49m\n\u001b[0;32m     19\u001b[0m \u001b[38;5;66;03m# # fig = go.Figure()\u001b[39;00m\n\u001b[0;32m     20\u001b[0m \u001b[38;5;66;03m# # fig.add_traces()\u001b[39;00m\n\u001b[0;32m     21\u001b[0m \u001b[38;5;66;03m# # fig.show()\u001b[39;00m\n",
      "File \u001b[1;32m~\\AppData\\Roaming\\uv\\python\\cpython-3.10.16-windows-x86_64-none\\lib\\functools.py:889\u001b[0m, in \u001b[0;36msingledispatch.<locals>.wrapper\u001b[1;34m(*args, **kw)\u001b[0m\n\u001b[0;32m    885\u001b[0m \u001b[38;5;28;01mif\u001b[39;00m \u001b[38;5;129;01mnot\u001b[39;00m args:\n\u001b[0;32m    886\u001b[0m     \u001b[38;5;28;01mraise\u001b[39;00m \u001b[38;5;167;01mTypeError\u001b[39;00m(\u001b[38;5;124mf\u001b[39m\u001b[38;5;124m'\u001b[39m\u001b[38;5;132;01m{\u001b[39;00mfuncname\u001b[38;5;132;01m}\u001b[39;00m\u001b[38;5;124m requires at least \u001b[39m\u001b[38;5;124m'\u001b[39m\n\u001b[0;32m    887\u001b[0m                     \u001b[38;5;124m'\u001b[39m\u001b[38;5;124m1 positional argument\u001b[39m\u001b[38;5;124m'\u001b[39m)\n\u001b[1;32m--> 889\u001b[0m \u001b[38;5;28;01mreturn\u001b[39;00m dispatch(args[\u001b[38;5;241m0\u001b[39m]\u001b[38;5;241m.\u001b[39m\u001b[38;5;18m__class__\u001b[39m)(\u001b[38;5;241m*\u001b[39margs, \u001b[38;5;241m*\u001b[39m\u001b[38;5;241m*\u001b[39mkw)\n",
      "File \u001b[1;32m~\\Documents\\GitHub\\target_dir\\kvrrj\\src\\kvrrj\\geometry\\to_plotly.py:206\u001b[0m, in \u001b[0;36m_\u001b[1;34m(geo, **kwargs)\u001b[0m\n\u001b[0;32m    204\u001b[0m     fc: Face3D\n\u001b[0;32m    205\u001b[0m     kwargs[\u001b[38;5;124m\"\u001b[39m\u001b[38;5;124mcolor\u001b[39m\u001b[38;5;124m\"\u001b[39m] \u001b[38;5;241m=\u001b[39m to_plotly_color(to_ladybug_color(geo))\n\u001b[1;32m--> 206\u001b[0m     traces\u001b[38;5;241m.\u001b[39mappend(to_plotly(fc, \u001b[38;5;241m*\u001b[39m\u001b[38;5;241m*\u001b[39mkwargs))\n\u001b[0;32m    207\u001b[0m \u001b[38;5;66;03m# get the sub_faces, and color appropriately\u001b[39;00m\n\u001b[0;32m    208\u001b[0m \u001b[38;5;28;01mfor\u001b[39;00m child \u001b[38;5;129;01min\u001b[39;00m geo\u001b[38;5;241m.\u001b[39msub_faces:\n",
      "File \u001b[1;32m~\\AppData\\Roaming\\uv\\python\\cpython-3.10.16-windows-x86_64-none\\lib\\functools.py:889\u001b[0m, in \u001b[0;36msingledispatch.<locals>.wrapper\u001b[1;34m(*args, **kw)\u001b[0m\n\u001b[0;32m    885\u001b[0m \u001b[38;5;28;01mif\u001b[39;00m \u001b[38;5;129;01mnot\u001b[39;00m args:\n\u001b[0;32m    886\u001b[0m     \u001b[38;5;28;01mraise\u001b[39;00m \u001b[38;5;167;01mTypeError\u001b[39;00m(\u001b[38;5;124mf\u001b[39m\u001b[38;5;124m'\u001b[39m\u001b[38;5;132;01m{\u001b[39;00mfuncname\u001b[38;5;132;01m}\u001b[39;00m\u001b[38;5;124m requires at least \u001b[39m\u001b[38;5;124m'\u001b[39m\n\u001b[0;32m    887\u001b[0m                     \u001b[38;5;124m'\u001b[39m\u001b[38;5;124m1 positional argument\u001b[39m\u001b[38;5;124m'\u001b[39m)\n\u001b[1;32m--> 889\u001b[0m \u001b[38;5;28;01mreturn\u001b[39;00m dispatch(args[\u001b[38;5;241m0\u001b[39m]\u001b[38;5;241m.\u001b[39m\u001b[38;5;18m__class__\u001b[39m)(\u001b[38;5;241m*\u001b[39margs, \u001b[38;5;241m*\u001b[39m\u001b[38;5;241m*\u001b[39mkw)\n",
      "File \u001b[1;32m~\\Documents\\GitHub\\target_dir\\kvrrj\\src\\kvrrj\\geometry\\to_plotly.py:50\u001b[0m, in \u001b[0;36m_\u001b[1;34m(geo, **kwargs)\u001b[0m\n\u001b[0;32m     47\u001b[0m \u001b[38;5;129m@to_plotly\u001b[39m\u001b[38;5;241m.\u001b[39mregister(Point3D)\n\u001b[0;32m     48\u001b[0m \u001b[38;5;129m@to_plotly\u001b[39m\u001b[38;5;241m.\u001b[39mregister(Vector3D)\n\u001b[0;32m     49\u001b[0m \u001b[38;5;28;01mdef\u001b[39;00m\u001b[38;5;250m \u001b[39m\u001b[38;5;21m_\u001b[39m(geo: Point3D \u001b[38;5;241m|\u001b[39m Vector3D, \u001b[38;5;241m*\u001b[39m\u001b[38;5;241m*\u001b[39mkwargs) \u001b[38;5;241m-\u001b[39m\u001b[38;5;241m>\u001b[39m go\u001b[38;5;241m.\u001b[39mScatter3d:\n\u001b[1;32m---> 50\u001b[0m     \u001b[38;5;28;01mreturn\u001b[39;00m go\u001b[38;5;241m.\u001b[39mScatter3d(x\u001b[38;5;241m=\u001b[39m[geo\u001b[38;5;241m.\u001b[39mx], y\u001b[38;5;241m=\u001b[39m[geo\u001b[38;5;241m.\u001b[39my], z\u001b[38;5;241m=\u001b[39m[geo\u001b[38;5;241m.\u001b[39mz], mode\u001b[38;5;241m=\u001b[39m\u001b[38;5;124m\"\u001b[39m\u001b[38;5;124mmarkers\u001b[39m\u001b[38;5;124m\"\u001b[39m, \u001b[38;5;241m*\u001b[39m\u001b[38;5;241m*\u001b[39mkwargs)\n",
      "File \u001b[1;32mc:\\Users\\tgerrish\\Documents\\GitHub\\target_dir\\kvrrj\\.venv\\lib\\site-packages\\plotly\\graph_objs\\_scatter3d.py:2839\u001b[0m, in \u001b[0;36mScatter3d.__init__\u001b[1;34m(self, arg, connectgaps, customdata, customdatasrc, error_x, error_y, error_z, hoverinfo, hoverinfosrc, hoverlabel, hovertemplate, hovertemplatesrc, hovertext, hovertextsrc, ids, idssrc, legend, legendgroup, legendgrouptitle, legendrank, legendwidth, line, marker, meta, metasrc, mode, name, opacity, projection, scene, showlegend, stream, surfaceaxis, surfacecolor, text, textfont, textposition, textpositionsrc, textsrc, texttemplate, texttemplatesrc, uid, uirevision, visible, x, xcalendar, xhoverformat, xsrc, y, ycalendar, yhoverformat, ysrc, z, zcalendar, zhoverformat, zsrc, **kwargs)\u001b[0m\n\u001b[0;32m   2835\u001b[0m arg\u001b[38;5;241m.\u001b[39mpop(\u001b[38;5;124m\"\u001b[39m\u001b[38;5;124mtype\u001b[39m\u001b[38;5;124m\"\u001b[39m, \u001b[38;5;28;01mNone\u001b[39;00m)\n\u001b[0;32m   2837\u001b[0m \u001b[38;5;66;03m# Process unknown kwargs\u001b[39;00m\n\u001b[0;32m   2838\u001b[0m \u001b[38;5;66;03m# ----------------------\u001b[39;00m\n\u001b[1;32m-> 2839\u001b[0m \u001b[38;5;28mself\u001b[39m\u001b[38;5;241m.\u001b[39m_process_kwargs(\u001b[38;5;241m*\u001b[39m\u001b[38;5;241m*\u001b[39m\u001b[38;5;28mdict\u001b[39m(arg, \u001b[38;5;241m*\u001b[39m\u001b[38;5;241m*\u001b[39mkwargs))\n\u001b[0;32m   2841\u001b[0m \u001b[38;5;66;03m# Reset skip_invalid\u001b[39;00m\n\u001b[0;32m   2842\u001b[0m \u001b[38;5;66;03m# ------------------\u001b[39;00m\n\u001b[0;32m   2843\u001b[0m \u001b[38;5;28mself\u001b[39m\u001b[38;5;241m.\u001b[39m_skip_invalid \u001b[38;5;241m=\u001b[39m \u001b[38;5;28;01mFalse\u001b[39;00m\n",
      "File \u001b[1;32mc:\\Users\\tgerrish\\Documents\\GitHub\\target_dir\\kvrrj\\.venv\\lib\\site-packages\\plotly\\basedatatypes.py:4378\u001b[0m, in \u001b[0;36mBasePlotlyType._process_kwargs\u001b[1;34m(self, **kwargs)\u001b[0m\n\u001b[0;32m   4376\u001b[0m     \u001b[38;5;28mself\u001b[39m[k] \u001b[38;5;241m=\u001b[39m v\n\u001b[0;32m   4377\u001b[0m \u001b[38;5;28;01melif\u001b[39;00m \u001b[38;5;129;01mnot\u001b[39;00m \u001b[38;5;28mself\u001b[39m\u001b[38;5;241m.\u001b[39m_skip_invalid:\n\u001b[1;32m-> 4378\u001b[0m     \u001b[38;5;28;01mraise\u001b[39;00m err\n",
      "\u001b[1;31mValueError\u001b[0m: Invalid property specified for object of type plotly.graph_objs.Scatter3d: 'color'\n\nDid you mean \"mode\"?\n\n    Valid properties:\n        connectgaps\n            Determines whether or not gaps (i.e. {nan} or missing\n            values) in the provided data arrays are connected.\n        customdata\n            Assigns extra data each datum. This may be useful when\n            listening to hover, click and selection events. Note\n            that, \"scatter\" traces also appends customdata items in\n            the markers DOM elements\n        customdatasrc\n            Sets the source reference on Chart Studio Cloud for\n            `customdata`.\n        error_x\n            :class:`plotly.graph_objects.scatter3d.ErrorX` instance\n            or dict with compatible properties\n        error_y\n            :class:`plotly.graph_objects.scatter3d.ErrorY` instance\n            or dict with compatible properties\n        error_z\n            :class:`plotly.graph_objects.scatter3d.ErrorZ` instance\n            or dict with compatible properties\n        hoverinfo\n            Determines which trace information appear on hover. If\n            `none` or `skip` are set, no information is displayed\n            upon hovering. But, if `none` is set, click and hover\n            events are still fired.\n        hoverinfosrc\n            Sets the source reference on Chart Studio Cloud for\n            `hoverinfo`.\n        hoverlabel\n            :class:`plotly.graph_objects.scatter3d.Hoverlabel`\n            instance or dict with compatible properties\n        hovertemplate\n            Template string used for rendering the information that\n            appear on hover box. Note that this will override\n            `hoverinfo`. Variables are inserted using %{variable},\n            for example \"y: %{y}\" as well as %{xother}, {%_xother},\n            {%_xother_}, {%xother_}. When showing info for several\n            points, \"xother\" will be added to those with different\n            x positions from the first point. An underscore before\n            or after \"(x|y)other\" will add a space on that side,\n            only when this field is shown. Numbers are formatted\n            using d3-format's syntax %{variable:d3-format}, for\n            example \"Price: %{y:$.2f}\".\n            https://github.com/d3/d3-format/tree/v1.4.5#d3-format\n            for details on the formatting syntax. Dates are\n            formatted using d3-time-format's syntax\n            %{variable|d3-time-format}, for example \"Day:\n            %{2019-01-01|%A}\". https://github.com/d3/d3-time-\n            format/tree/v2.2.3#locale_format for details on the\n            date formatting syntax. The variables available in\n            `hovertemplate` are the ones emitted as event data\n            described at this link\n            https://plotly.com/javascript/plotlyjs-events/#event-\n            data. Additionally, every attributes that can be\n            specified per-point (the ones that are `arrayOk: true`)\n            are available.  Anything contained in tag `<extra>` is\n            displayed in the secondary box, for example\n            \"<extra>{fullData.name}</extra>\". To hide the secondary\n            box completely, use an empty tag `<extra></extra>`.\n        hovertemplatesrc\n            Sets the source reference on Chart Studio Cloud for\n            `hovertemplate`.\n        hovertext\n            Sets text elements associated with each (x,y,z)\n            triplet. If a single string, the same string appears\n            over all the data points. If an array of string, the\n            items are mapped in order to the this trace's (x,y,z)\n            coordinates. To be seen, trace `hoverinfo` must contain\n            a \"text\" flag.\n        hovertextsrc\n            Sets the source reference on Chart Studio Cloud for\n            `hovertext`.\n        ids\n            Assigns id labels to each datum. These ids for object\n            constancy of data points during animation. Should be an\n            array of strings, not numbers or any other type.\n        idssrc\n            Sets the source reference on Chart Studio Cloud for\n            `ids`.\n        legend\n            Sets the reference to a legend to show this trace in.\n            References to these legends are \"legend\", \"legend2\",\n            \"legend3\", etc. Settings for these legends are set in\n            the layout, under `layout.legend`, `layout.legend2`,\n            etc.\n        legendgroup\n            Sets the legend group for this trace. Traces and shapes\n            part of the same legend group hide/show at the same\n            time when toggling legend items.\n        legendgrouptitle\n            :class:`plotly.graph_objects.scatter3d.Legendgrouptitle\n            ` instance or dict with compatible properties\n        legendrank\n            Sets the legend rank for this trace. Items and groups\n            with smaller ranks are presented on top/left side while\n            with \"reversed\" `legend.traceorder` they are on\n            bottom/right side. The default legendrank is 1000, so\n            that you can use ranks less than 1000 to place certain\n            items before all unranked items, and ranks greater than\n            1000 to go after all unranked items. When having\n            unranked or equal rank items shapes would be displayed\n            after traces i.e. according to their order in data and\n            layout.\n        legendwidth\n            Sets the width (in px or fraction) of the legend for\n            this trace.\n        line\n            :class:`plotly.graph_objects.scatter3d.Line` instance\n            or dict with compatible properties\n        marker\n            :class:`plotly.graph_objects.scatter3d.Marker` instance\n            or dict with compatible properties\n        meta\n            Assigns extra meta information associated with this\n            trace that can be used in various text attributes.\n            Attributes such as trace `name`, graph, axis and\n            colorbar `title.text`, annotation `text`\n            `rangeselector`, `updatemenues` and `sliders` `label`\n            text all support `meta`. To access the trace `meta`\n            values in an attribute in the same trace, simply use\n            `%{meta[i]}` where `i` is the index or key of the\n            `meta` item in question. To access trace `meta` in\n            layout attributes, use `%{data[n[.meta[i]}` where `i`\n            is the index or key of the `meta` and `n` is the trace\n            index.\n        metasrc\n            Sets the source reference on Chart Studio Cloud for\n            `meta`.\n        mode\n            Determines the drawing mode for this scatter trace. If\n            the provided `mode` includes \"text\" then the `text`\n            elements appear at the coordinates. Otherwise, the\n            `text` elements appear on hover. If there are less than\n            20 points and the trace is not stacked then the default\n            is \"lines+markers\". Otherwise, \"lines\".\n        name\n            Sets the trace name. The trace name appears as the\n            legend item and on hover.\n        opacity\n            Sets the opacity of the trace.\n        projection\n            :class:`plotly.graph_objects.scatter3d.Projection`\n            instance or dict with compatible properties\n        scene\n            Sets a reference between this trace's 3D coordinate\n            system and a 3D scene. If \"scene\" (the default value),\n            the (x,y,z) coordinates refer to `layout.scene`. If\n            \"scene2\", the (x,y,z) coordinates refer to\n            `layout.scene2`, and so on.\n        showlegend\n            Determines whether or not an item corresponding to this\n            trace is shown in the legend.\n        stream\n            :class:`plotly.graph_objects.scatter3d.Stream` instance\n            or dict with compatible properties\n        surfaceaxis\n            If \"-1\", the scatter points are not fill with a surface\n            If 0, 1, 2, the scatter points are filled with a\n            Delaunay surface about the x, y, z respectively.\n        surfacecolor\n            Sets the surface fill color.\n        text\n            Sets text elements associated with each (x,y,z)\n            triplet. If a single string, the same string appears\n            over all the data points. If an array of string, the\n            items are mapped in order to the this trace's (x,y,z)\n            coordinates. If trace `hoverinfo` contains a \"text\"\n            flag and \"hovertext\" is not set, these elements will be\n            seen in the hover labels.\n        textfont\n            Sets the text font.\n        textposition\n            Sets the positions of the `text` elements with respects\n            to the (x,y) coordinates.\n        textpositionsrc\n            Sets the source reference on Chart Studio Cloud for\n            `textposition`.\n        textsrc\n            Sets the source reference on Chart Studio Cloud for\n            `text`.\n        texttemplate\n            Template string used for rendering the information text\n            that appear on points. Note that this will override\n            `textinfo`. Variables are inserted using %{variable},\n            for example \"y: %{y}\". Numbers are formatted using\n            d3-format's syntax %{variable:d3-format}, for example\n            \"Price: %{y:$.2f}\".\n            https://github.com/d3/d3-format/tree/v1.4.5#d3-format\n            for details on the formatting syntax. Dates are\n            formatted using d3-time-format's syntax\n            %{variable|d3-time-format}, for example \"Day:\n            %{2019-01-01|%A}\". https://github.com/d3/d3-time-\n            format/tree/v2.2.3#locale_format for details on the\n            date formatting syntax. Every attributes that can be\n            specified per-point (the ones that are `arrayOk: true`)\n            are available.\n        texttemplatesrc\n            Sets the source reference on Chart Studio Cloud for\n            `texttemplate`.\n        uid\n            Assign an id to this trace, Use this to provide object\n            constancy between traces during animations and\n            transitions.\n        uirevision\n            Controls persistence of some user-driven changes to the\n            trace: `constraintrange` in `parcoords` traces, as well\n            as some `editable: true` modifications such as `name`\n            and `colorbar.title`. Defaults to `layout.uirevision`.\n            Note that other user-driven trace attribute changes are\n            controlled by `layout` attributes: `trace.visible` is\n            controlled by `layout.legend.uirevision`,\n            `selectedpoints` is controlled by\n            `layout.selectionrevision`, and `colorbar.(x|y)`\n            (accessible with `config: {editable: true}`) is\n            controlled by `layout.editrevision`. Trace changes are\n            tracked by `uid`, which only falls back on trace index\n            if no `uid` is provided. So if your app can add/remove\n            traces before the end of the `data` array, such that\n            the same trace has a different index, you can still\n            preserve user-driven changes if you give each trace a\n            `uid` that stays with it as it moves.\n        visible\n            Determines whether or not this trace is visible. If\n            \"legendonly\", the trace is not drawn, but can appear as\n            a legend item (provided that the legend itself is\n            visible).\n        x\n            Sets the x coordinates.\n        xcalendar\n            Sets the calendar system to use with `x` date data.\n        xhoverformat\n            Sets the hover text formatting rulefor `x`  using d3\n            formatting mini-languages which are very similar to\n            those in Python. For numbers, see:\n            https://github.com/d3/d3-format/tree/v1.4.5#d3-format.\n            And for dates see: https://github.com/d3/d3-time-\n            format/tree/v2.2.3#locale_format. We add two items to\n            d3's date formatter: \"%h\" for half of the year as a\n            decimal number as well as \"%{n}f\" for fractional\n            seconds with n digits. For example, *2016-10-13\n            09:15:23.456* with tickformat \"%H~%M~%S.%2f\" would\n            display *09~15~23.46*By default the values are\n            formatted using `xaxis.hoverformat`.\n        xsrc\n            Sets the source reference on Chart Studio Cloud for\n            `x`.\n        y\n            Sets the y coordinates.\n        ycalendar\n            Sets the calendar system to use with `y` date data.\n        yhoverformat\n            Sets the hover text formatting rulefor `y`  using d3\n            formatting mini-languages which are very similar to\n            those in Python. For numbers, see:\n            https://github.com/d3/d3-format/tree/v1.4.5#d3-format.\n            And for dates see: https://github.com/d3/d3-time-\n            format/tree/v2.2.3#locale_format. We add two items to\n            d3's date formatter: \"%h\" for half of the year as a\n            decimal number as well as \"%{n}f\" for fractional\n            seconds with n digits. For example, *2016-10-13\n            09:15:23.456* with tickformat \"%H~%M~%S.%2f\" would\n            display *09~15~23.46*By default the values are\n            formatted using `yaxis.hoverformat`.\n        ysrc\n            Sets the source reference on Chart Studio Cloud for\n            `y`.\n        z\n            Sets the z coordinates.\n        zcalendar\n            Sets the calendar system to use with `z` date data.\n        zhoverformat\n            Sets the hover text formatting rulefor `z`  using d3\n            formatting mini-languages which are very similar to\n            those in Python. For numbers, see:\n            https://github.com/d3/d3-format/tree/v1.4.5#d3-format.\n            And for dates see: https://github.com/d3/d3-time-\n            format/tree/v2.2.3#locale_format. We add two items to\n            d3's date formatter: \"%h\" for half of the year as a\n            decimal number as well as \"%{n}f\" for fractional\n            seconds with n digits. For example, *2016-10-13\n            09:15:23.456* with tickformat \"%H~%M~%S.%2f\" would\n            display *09~15~23.46*By default the values are\n            formatted using `zaxis.hoverformat`.\n        zsrc\n            Sets the source reference on Chart Studio Cloud for\n            `z`.\n        \nDid you mean \"mode\"?\n\nBad property path:\ncolor\n^^^^^"
     ]
    }
   ],
   "source": [
    "from honeybee.model import Wall, Face, Aperture, Room\n",
    "\n",
    "from kvrrj.geometry.to_plotly import to_plotly\n",
    "import plotly.graph_objects as go\n",
    "\n",
    "# create a room\n",
    "ROOM = Room.from_box(identifier=\"room\")\n",
    "# add apertures to 3 walls\n",
    "\n",
    "shades = []\n",
    "for n, face in enumerate(ROOM.faces):\n",
    "    face: Face\n",
    "    if isinstance(face.type, Wall):\n",
    "        face.apertures_by_ratio(0.4)\n",
    "        for aperture in face.apertures:\n",
    "            aperture: Aperture\n",
    "            shades.append(aperture.louvers_by_count(louver_count=3, depth=0.1))\n",
    "\n",
    "\n",
    "to_plotly(ROOM.faces[1])\n",
    "# # fig = go.Figure()\n",
    "# # fig.add_traces()\n",
    "# # fig.show()\n",
    "\n"
   ]
  },
  {
   "cell_type": "code",
   "execution_count": 1,
   "metadata": {},
   "outputs": [
    {
     "data": {
      "application/vnd.plotly.v1+json": {
       "config": {
        "plotlyServerURL": "https://plot.ly"
       },
       "data": [
        {
         "color": "#A09664",
         "i": [
          0
         ],
         "j": [
          1
         ],
         "k": [
          2
         ],
         "type": "mesh3d",
         "x": [
          0,
          -0.8660254037844387,
          0.8660254037844384
         ],
         "y": [
          1,
          -0.4999999999999998,
          -0.5000000000000004
         ],
         "z": [
          0,
          0,
          0
         ]
        }
       ],
       "layout": {
        "template": {
         "data": {
          "bar": [
           {
            "error_x": {
             "color": "#2a3f5f"
            },
            "error_y": {
             "color": "#2a3f5f"
            },
            "marker": {
             "line": {
              "color": "#E5ECF6",
              "width": 0.5
             },
             "pattern": {
              "fillmode": "overlay",
              "size": 10,
              "solidity": 0.2
             }
            },
            "type": "bar"
           }
          ],
          "barpolar": [
           {
            "marker": {
             "line": {
              "color": "#E5ECF6",
              "width": 0.5
             },
             "pattern": {
              "fillmode": "overlay",
              "size": 10,
              "solidity": 0.2
             }
            },
            "type": "barpolar"
           }
          ],
          "carpet": [
           {
            "aaxis": {
             "endlinecolor": "#2a3f5f",
             "gridcolor": "white",
             "linecolor": "white",
             "minorgridcolor": "white",
             "startlinecolor": "#2a3f5f"
            },
            "baxis": {
             "endlinecolor": "#2a3f5f",
             "gridcolor": "white",
             "linecolor": "white",
             "minorgridcolor": "white",
             "startlinecolor": "#2a3f5f"
            },
            "type": "carpet"
           }
          ],
          "choropleth": [
           {
            "colorbar": {
             "outlinewidth": 0,
             "ticks": ""
            },
            "type": "choropleth"
           }
          ],
          "contour": [
           {
            "colorbar": {
             "outlinewidth": 0,
             "ticks": ""
            },
            "colorscale": [
             [
              0,
              "#0d0887"
             ],
             [
              0.1111111111111111,
              "#46039f"
             ],
             [
              0.2222222222222222,
              "#7201a8"
             ],
             [
              0.3333333333333333,
              "#9c179e"
             ],
             [
              0.4444444444444444,
              "#bd3786"
             ],
             [
              0.5555555555555556,
              "#d8576b"
             ],
             [
              0.6666666666666666,
              "#ed7953"
             ],
             [
              0.7777777777777778,
              "#fb9f3a"
             ],
             [
              0.8888888888888888,
              "#fdca26"
             ],
             [
              1,
              "#f0f921"
             ]
            ],
            "type": "contour"
           }
          ],
          "contourcarpet": [
           {
            "colorbar": {
             "outlinewidth": 0,
             "ticks": ""
            },
            "type": "contourcarpet"
           }
          ],
          "heatmap": [
           {
            "colorbar": {
             "outlinewidth": 0,
             "ticks": ""
            },
            "colorscale": [
             [
              0,
              "#0d0887"
             ],
             [
              0.1111111111111111,
              "#46039f"
             ],
             [
              0.2222222222222222,
              "#7201a8"
             ],
             [
              0.3333333333333333,
              "#9c179e"
             ],
             [
              0.4444444444444444,
              "#bd3786"
             ],
             [
              0.5555555555555556,
              "#d8576b"
             ],
             [
              0.6666666666666666,
              "#ed7953"
             ],
             [
              0.7777777777777778,
              "#fb9f3a"
             ],
             [
              0.8888888888888888,
              "#fdca26"
             ],
             [
              1,
              "#f0f921"
             ]
            ],
            "type": "heatmap"
           }
          ],
          "histogram": [
           {
            "marker": {
             "pattern": {
              "fillmode": "overlay",
              "size": 10,
              "solidity": 0.2
             }
            },
            "type": "histogram"
           }
          ],
          "histogram2d": [
           {
            "colorbar": {
             "outlinewidth": 0,
             "ticks": ""
            },
            "colorscale": [
             [
              0,
              "#0d0887"
             ],
             [
              0.1111111111111111,
              "#46039f"
             ],
             [
              0.2222222222222222,
              "#7201a8"
             ],
             [
              0.3333333333333333,
              "#9c179e"
             ],
             [
              0.4444444444444444,
              "#bd3786"
             ],
             [
              0.5555555555555556,
              "#d8576b"
             ],
             [
              0.6666666666666666,
              "#ed7953"
             ],
             [
              0.7777777777777778,
              "#fb9f3a"
             ],
             [
              0.8888888888888888,
              "#fdca26"
             ],
             [
              1,
              "#f0f921"
             ]
            ],
            "type": "histogram2d"
           }
          ],
          "histogram2dcontour": [
           {
            "colorbar": {
             "outlinewidth": 0,
             "ticks": ""
            },
            "colorscale": [
             [
              0,
              "#0d0887"
             ],
             [
              0.1111111111111111,
              "#46039f"
             ],
             [
              0.2222222222222222,
              "#7201a8"
             ],
             [
              0.3333333333333333,
              "#9c179e"
             ],
             [
              0.4444444444444444,
              "#bd3786"
             ],
             [
              0.5555555555555556,
              "#d8576b"
             ],
             [
              0.6666666666666666,
              "#ed7953"
             ],
             [
              0.7777777777777778,
              "#fb9f3a"
             ],
             [
              0.8888888888888888,
              "#fdca26"
             ],
             [
              1,
              "#f0f921"
             ]
            ],
            "type": "histogram2dcontour"
           }
          ],
          "mesh3d": [
           {
            "colorbar": {
             "outlinewidth": 0,
             "ticks": ""
            },
            "type": "mesh3d"
           }
          ],
          "parcoords": [
           {
            "line": {
             "colorbar": {
              "outlinewidth": 0,
              "ticks": ""
             }
            },
            "type": "parcoords"
           }
          ],
          "pie": [
           {
            "automargin": true,
            "type": "pie"
           }
          ],
          "scatter": [
           {
            "fillpattern": {
             "fillmode": "overlay",
             "size": 10,
             "solidity": 0.2
            },
            "type": "scatter"
           }
          ],
          "scatter3d": [
           {
            "line": {
             "colorbar": {
              "outlinewidth": 0,
              "ticks": ""
             }
            },
            "marker": {
             "colorbar": {
              "outlinewidth": 0,
              "ticks": ""
             }
            },
            "type": "scatter3d"
           }
          ],
          "scattercarpet": [
           {
            "marker": {
             "colorbar": {
              "outlinewidth": 0,
              "ticks": ""
             }
            },
            "type": "scattercarpet"
           }
          ],
          "scattergeo": [
           {
            "marker": {
             "colorbar": {
              "outlinewidth": 0,
              "ticks": ""
             }
            },
            "type": "scattergeo"
           }
          ],
          "scattergl": [
           {
            "marker": {
             "colorbar": {
              "outlinewidth": 0,
              "ticks": ""
             }
            },
            "type": "scattergl"
           }
          ],
          "scattermap": [
           {
            "marker": {
             "colorbar": {
              "outlinewidth": 0,
              "ticks": ""
             }
            },
            "type": "scattermap"
           }
          ],
          "scattermapbox": [
           {
            "marker": {
             "colorbar": {
              "outlinewidth": 0,
              "ticks": ""
             }
            },
            "type": "scattermapbox"
           }
          ],
          "scatterpolar": [
           {
            "marker": {
             "colorbar": {
              "outlinewidth": 0,
              "ticks": ""
             }
            },
            "type": "scatterpolar"
           }
          ],
          "scatterpolargl": [
           {
            "marker": {
             "colorbar": {
              "outlinewidth": 0,
              "ticks": ""
             }
            },
            "type": "scatterpolargl"
           }
          ],
          "scatterternary": [
           {
            "marker": {
             "colorbar": {
              "outlinewidth": 0,
              "ticks": ""
             }
            },
            "type": "scatterternary"
           }
          ],
          "surface": [
           {
            "colorbar": {
             "outlinewidth": 0,
             "ticks": ""
            },
            "colorscale": [
             [
              0,
              "#0d0887"
             ],
             [
              0.1111111111111111,
              "#46039f"
             ],
             [
              0.2222222222222222,
              "#7201a8"
             ],
             [
              0.3333333333333333,
              "#9c179e"
             ],
             [
              0.4444444444444444,
              "#bd3786"
             ],
             [
              0.5555555555555556,
              "#d8576b"
             ],
             [
              0.6666666666666666,
              "#ed7953"
             ],
             [
              0.7777777777777778,
              "#fb9f3a"
             ],
             [
              0.8888888888888888,
              "#fdca26"
             ],
             [
              1,
              "#f0f921"
             ]
            ],
            "type": "surface"
           }
          ],
          "table": [
           {
            "cells": {
             "fill": {
              "color": "#EBF0F8"
             },
             "line": {
              "color": "white"
             }
            },
            "header": {
             "fill": {
              "color": "#C8D4E3"
             },
             "line": {
              "color": "white"
             }
            },
            "type": "table"
           }
          ]
         },
         "layout": {
          "annotationdefaults": {
           "arrowcolor": "#2a3f5f",
           "arrowhead": 0,
           "arrowwidth": 1
          },
          "autotypenumbers": "strict",
          "coloraxis": {
           "colorbar": {
            "outlinewidth": 0,
            "ticks": ""
           }
          },
          "colorscale": {
           "diverging": [
            [
             0,
             "#8e0152"
            ],
            [
             0.1,
             "#c51b7d"
            ],
            [
             0.2,
             "#de77ae"
            ],
            [
             0.3,
             "#f1b6da"
            ],
            [
             0.4,
             "#fde0ef"
            ],
            [
             0.5,
             "#f7f7f7"
            ],
            [
             0.6,
             "#e6f5d0"
            ],
            [
             0.7,
             "#b8e186"
            ],
            [
             0.8,
             "#7fbc41"
            ],
            [
             0.9,
             "#4d9221"
            ],
            [
             1,
             "#276419"
            ]
           ],
           "sequential": [
            [
             0,
             "#0d0887"
            ],
            [
             0.1111111111111111,
             "#46039f"
            ],
            [
             0.2222222222222222,
             "#7201a8"
            ],
            [
             0.3333333333333333,
             "#9c179e"
            ],
            [
             0.4444444444444444,
             "#bd3786"
            ],
            [
             0.5555555555555556,
             "#d8576b"
            ],
            [
             0.6666666666666666,
             "#ed7953"
            ],
            [
             0.7777777777777778,
             "#fb9f3a"
            ],
            [
             0.8888888888888888,
             "#fdca26"
            ],
            [
             1,
             "#f0f921"
            ]
           ],
           "sequentialminus": [
            [
             0,
             "#0d0887"
            ],
            [
             0.1111111111111111,
             "#46039f"
            ],
            [
             0.2222222222222222,
             "#7201a8"
            ],
            [
             0.3333333333333333,
             "#9c179e"
            ],
            [
             0.4444444444444444,
             "#bd3786"
            ],
            [
             0.5555555555555556,
             "#d8576b"
            ],
            [
             0.6666666666666666,
             "#ed7953"
            ],
            [
             0.7777777777777778,
             "#fb9f3a"
            ],
            [
             0.8888888888888888,
             "#fdca26"
            ],
            [
             1,
             "#f0f921"
            ]
           ]
          },
          "colorway": [
           "#636efa",
           "#EF553B",
           "#00cc96",
           "#ab63fa",
           "#FFA15A",
           "#19d3f3",
           "#FF6692",
           "#B6E880",
           "#FF97FF",
           "#FECB52"
          ],
          "font": {
           "color": "#2a3f5f"
          },
          "geo": {
           "bgcolor": "white",
           "lakecolor": "white",
           "landcolor": "#E5ECF6",
           "showlakes": true,
           "showland": true,
           "subunitcolor": "white"
          },
          "hoverlabel": {
           "align": "left"
          },
          "hovermode": "closest",
          "mapbox": {
           "style": "light"
          },
          "paper_bgcolor": "white",
          "plot_bgcolor": "#E5ECF6",
          "polar": {
           "angularaxis": {
            "gridcolor": "white",
            "linecolor": "white",
            "ticks": ""
           },
           "bgcolor": "#E5ECF6",
           "radialaxis": {
            "gridcolor": "white",
            "linecolor": "white",
            "ticks": ""
           }
          },
          "scene": {
           "xaxis": {
            "backgroundcolor": "#E5ECF6",
            "gridcolor": "white",
            "gridwidth": 2,
            "linecolor": "white",
            "showbackground": true,
            "ticks": "",
            "zerolinecolor": "white"
           },
           "yaxis": {
            "backgroundcolor": "#E5ECF6",
            "gridcolor": "white",
            "gridwidth": 2,
            "linecolor": "white",
            "showbackground": true,
            "ticks": "",
            "zerolinecolor": "white"
           },
           "zaxis": {
            "backgroundcolor": "#E5ECF6",
            "gridcolor": "white",
            "gridwidth": 2,
            "linecolor": "white",
            "showbackground": true,
            "ticks": "",
            "zerolinecolor": "white"
           }
          },
          "shapedefaults": {
           "line": {
            "color": "#2a3f5f"
           }
          },
          "ternary": {
           "aaxis": {
            "gridcolor": "white",
            "linecolor": "white",
            "ticks": ""
           },
           "baxis": {
            "gridcolor": "white",
            "linecolor": "white",
            "ticks": ""
           },
           "bgcolor": "#E5ECF6",
           "caxis": {
            "gridcolor": "white",
            "linecolor": "white",
            "ticks": ""
           }
          },
          "title": {
           "x": 0.05
          },
          "xaxis": {
           "automargin": true,
           "gridcolor": "white",
           "linecolor": "white",
           "ticks": "",
           "title": {
            "standoff": 15
           },
           "zerolinecolor": "white",
           "zerolinewidth": 2
          },
          "yaxis": {
           "automargin": true,
           "gridcolor": "white",
           "linecolor": "white",
           "ticks": "",
           "title": {
            "standoff": 15
           },
           "zerolinecolor": "white",
           "zerolinewidth": 2
          }
         }
        }
       }
      }
     },
     "metadata": {},
     "output_type": "display_data"
    }
   ],
   "source": [
    "from ladybug_geometry.geometry3d import Face3D, Point3D, Mesh3D, Vector3D, Polyface3D, Plane\n",
    "from kvrrj.geometry import to_shapely, to_plotly\n",
    "import plotly.graph_objects as go\n",
    "\n",
    "from honeybee.model import Door\n",
    "geo = Door.from_vertices(identifier=\"asdfoijn\", vertices=Face3D.from_regular_polygon(side_count=3).vertices)\n",
    "\n",
    "fig = go.Figure()\n",
    "fig.add_trace(to_plotly(geo))\n",
    "fig.show()\n"
   ]
  },
  {
   "cell_type": "code",
   "execution_count": null,
   "metadata": {},
   "outputs": [],
   "source": [
    "# msh = geo.triangulated_mesh3d\n",
    "# xyz = [pt.to_array() for pt in msh.vertices]\n",
    "# x, y, z = [list(i) for i in zip(*xyz)]\n",
    "# i, j, k = [list(i) for i in zip(*msh.faces)]\n",
    "\n",
    "# fig = go.Figure(\n",
    "#     data=[\n",
    "#         go.Mesh3d(\n",
    "#     x=x,\n",
    "#     y=y,\n",
    "#     z=z,\n",
    "#     i=i,\n",
    "#     j=j,\n",
    "#     k=k,\n",
    "# )\n",
    "#     ]\n",
    "# )\n",
    "\n",
    "# fig.show()\n"
   ]
  },
  {
   "cell_type": "code",
   "execution_count": 93,
   "metadata": {},
   "outputs": [
    {
     "data": {
      "application/vnd.plotly.v1+json": {
       "config": {
        "plotlyServerURL": "https://plot.ly"
       },
       "data": [
        {
         "colorbar": {
          "title": {
           "text": "z"
          }
         },
         "colorscale": [
          [
           0,
           "gold"
          ],
          [
           0.5,
           "mediumturquoise"
          ],
          [
           1,
           "magenta"
          ]
         ],
         "i": [
          0,
          0,
          0,
          1
         ],
         "intensity": [
          0,
          0.33,
          0.66,
          1
         ],
         "j": [
          1,
          2,
          3,
          2
         ],
         "k": [
          2,
          3,
          1,
          3
         ],
         "name": "y",
         "showscale": true,
         "type": "mesh3d",
         "x": [
          0,
          1,
          2,
          0
         ],
         "y": [
          0,
          0,
          1,
          2
         ],
         "z": [
          0,
          2,
          0,
          1
         ]
        }
       ],
       "layout": {
        "template": {
         "data": {
          "bar": [
           {
            "error_x": {
             "color": "#2a3f5f"
            },
            "error_y": {
             "color": "#2a3f5f"
            },
            "marker": {
             "line": {
              "color": "#E5ECF6",
              "width": 0.5
             },
             "pattern": {
              "fillmode": "overlay",
              "size": 10,
              "solidity": 0.2
             }
            },
            "type": "bar"
           }
          ],
          "barpolar": [
           {
            "marker": {
             "line": {
              "color": "#E5ECF6",
              "width": 0.5
             },
             "pattern": {
              "fillmode": "overlay",
              "size": 10,
              "solidity": 0.2
             }
            },
            "type": "barpolar"
           }
          ],
          "carpet": [
           {
            "aaxis": {
             "endlinecolor": "#2a3f5f",
             "gridcolor": "white",
             "linecolor": "white",
             "minorgridcolor": "white",
             "startlinecolor": "#2a3f5f"
            },
            "baxis": {
             "endlinecolor": "#2a3f5f",
             "gridcolor": "white",
             "linecolor": "white",
             "minorgridcolor": "white",
             "startlinecolor": "#2a3f5f"
            },
            "type": "carpet"
           }
          ],
          "choropleth": [
           {
            "colorbar": {
             "outlinewidth": 0,
             "ticks": ""
            },
            "type": "choropleth"
           }
          ],
          "contour": [
           {
            "colorbar": {
             "outlinewidth": 0,
             "ticks": ""
            },
            "colorscale": [
             [
              0,
              "#0d0887"
             ],
             [
              0.1111111111111111,
              "#46039f"
             ],
             [
              0.2222222222222222,
              "#7201a8"
             ],
             [
              0.3333333333333333,
              "#9c179e"
             ],
             [
              0.4444444444444444,
              "#bd3786"
             ],
             [
              0.5555555555555556,
              "#d8576b"
             ],
             [
              0.6666666666666666,
              "#ed7953"
             ],
             [
              0.7777777777777778,
              "#fb9f3a"
             ],
             [
              0.8888888888888888,
              "#fdca26"
             ],
             [
              1,
              "#f0f921"
             ]
            ],
            "type": "contour"
           }
          ],
          "contourcarpet": [
           {
            "colorbar": {
             "outlinewidth": 0,
             "ticks": ""
            },
            "type": "contourcarpet"
           }
          ],
          "heatmap": [
           {
            "colorbar": {
             "outlinewidth": 0,
             "ticks": ""
            },
            "colorscale": [
             [
              0,
              "#0d0887"
             ],
             [
              0.1111111111111111,
              "#46039f"
             ],
             [
              0.2222222222222222,
              "#7201a8"
             ],
             [
              0.3333333333333333,
              "#9c179e"
             ],
             [
              0.4444444444444444,
              "#bd3786"
             ],
             [
              0.5555555555555556,
              "#d8576b"
             ],
             [
              0.6666666666666666,
              "#ed7953"
             ],
             [
              0.7777777777777778,
              "#fb9f3a"
             ],
             [
              0.8888888888888888,
              "#fdca26"
             ],
             [
              1,
              "#f0f921"
             ]
            ],
            "type": "heatmap"
           }
          ],
          "histogram": [
           {
            "marker": {
             "pattern": {
              "fillmode": "overlay",
              "size": 10,
              "solidity": 0.2
             }
            },
            "type": "histogram"
           }
          ],
          "histogram2d": [
           {
            "colorbar": {
             "outlinewidth": 0,
             "ticks": ""
            },
            "colorscale": [
             [
              0,
              "#0d0887"
             ],
             [
              0.1111111111111111,
              "#46039f"
             ],
             [
              0.2222222222222222,
              "#7201a8"
             ],
             [
              0.3333333333333333,
              "#9c179e"
             ],
             [
              0.4444444444444444,
              "#bd3786"
             ],
             [
              0.5555555555555556,
              "#d8576b"
             ],
             [
              0.6666666666666666,
              "#ed7953"
             ],
             [
              0.7777777777777778,
              "#fb9f3a"
             ],
             [
              0.8888888888888888,
              "#fdca26"
             ],
             [
              1,
              "#f0f921"
             ]
            ],
            "type": "histogram2d"
           }
          ],
          "histogram2dcontour": [
           {
            "colorbar": {
             "outlinewidth": 0,
             "ticks": ""
            },
            "colorscale": [
             [
              0,
              "#0d0887"
             ],
             [
              0.1111111111111111,
              "#46039f"
             ],
             [
              0.2222222222222222,
              "#7201a8"
             ],
             [
              0.3333333333333333,
              "#9c179e"
             ],
             [
              0.4444444444444444,
              "#bd3786"
             ],
             [
              0.5555555555555556,
              "#d8576b"
             ],
             [
              0.6666666666666666,
              "#ed7953"
             ],
             [
              0.7777777777777778,
              "#fb9f3a"
             ],
             [
              0.8888888888888888,
              "#fdca26"
             ],
             [
              1,
              "#f0f921"
             ]
            ],
            "type": "histogram2dcontour"
           }
          ],
          "mesh3d": [
           {
            "colorbar": {
             "outlinewidth": 0,
             "ticks": ""
            },
            "type": "mesh3d"
           }
          ],
          "parcoords": [
           {
            "line": {
             "colorbar": {
              "outlinewidth": 0,
              "ticks": ""
             }
            },
            "type": "parcoords"
           }
          ],
          "pie": [
           {
            "automargin": true,
            "type": "pie"
           }
          ],
          "scatter": [
           {
            "fillpattern": {
             "fillmode": "overlay",
             "size": 10,
             "solidity": 0.2
            },
            "type": "scatter"
           }
          ],
          "scatter3d": [
           {
            "line": {
             "colorbar": {
              "outlinewidth": 0,
              "ticks": ""
             }
            },
            "marker": {
             "colorbar": {
              "outlinewidth": 0,
              "ticks": ""
             }
            },
            "type": "scatter3d"
           }
          ],
          "scattercarpet": [
           {
            "marker": {
             "colorbar": {
              "outlinewidth": 0,
              "ticks": ""
             }
            },
            "type": "scattercarpet"
           }
          ],
          "scattergeo": [
           {
            "marker": {
             "colorbar": {
              "outlinewidth": 0,
              "ticks": ""
             }
            },
            "type": "scattergeo"
           }
          ],
          "scattergl": [
           {
            "marker": {
             "colorbar": {
              "outlinewidth": 0,
              "ticks": ""
             }
            },
            "type": "scattergl"
           }
          ],
          "scattermap": [
           {
            "marker": {
             "colorbar": {
              "outlinewidth": 0,
              "ticks": ""
             }
            },
            "type": "scattermap"
           }
          ],
          "scattermapbox": [
           {
            "marker": {
             "colorbar": {
              "outlinewidth": 0,
              "ticks": ""
             }
            },
            "type": "scattermapbox"
           }
          ],
          "scatterpolar": [
           {
            "marker": {
             "colorbar": {
              "outlinewidth": 0,
              "ticks": ""
             }
            },
            "type": "scatterpolar"
           }
          ],
          "scatterpolargl": [
           {
            "marker": {
             "colorbar": {
              "outlinewidth": 0,
              "ticks": ""
             }
            },
            "type": "scatterpolargl"
           }
          ],
          "scatterternary": [
           {
            "marker": {
             "colorbar": {
              "outlinewidth": 0,
              "ticks": ""
             }
            },
            "type": "scatterternary"
           }
          ],
          "surface": [
           {
            "colorbar": {
             "outlinewidth": 0,
             "ticks": ""
            },
            "colorscale": [
             [
              0,
              "#0d0887"
             ],
             [
              0.1111111111111111,
              "#46039f"
             ],
             [
              0.2222222222222222,
              "#7201a8"
             ],
             [
              0.3333333333333333,
              "#9c179e"
             ],
             [
              0.4444444444444444,
              "#bd3786"
             ],
             [
              0.5555555555555556,
              "#d8576b"
             ],
             [
              0.6666666666666666,
              "#ed7953"
             ],
             [
              0.7777777777777778,
              "#fb9f3a"
             ],
             [
              0.8888888888888888,
              "#fdca26"
             ],
             [
              1,
              "#f0f921"
             ]
            ],
            "type": "surface"
           }
          ],
          "table": [
           {
            "cells": {
             "fill": {
              "color": "#EBF0F8"
             },
             "line": {
              "color": "white"
             }
            },
            "header": {
             "fill": {
              "color": "#C8D4E3"
             },
             "line": {
              "color": "white"
             }
            },
            "type": "table"
           }
          ]
         },
         "layout": {
          "annotationdefaults": {
           "arrowcolor": "#2a3f5f",
           "arrowhead": 0,
           "arrowwidth": 1
          },
          "autotypenumbers": "strict",
          "coloraxis": {
           "colorbar": {
            "outlinewidth": 0,
            "ticks": ""
           }
          },
          "colorscale": {
           "diverging": [
            [
             0,
             "#8e0152"
            ],
            [
             0.1,
             "#c51b7d"
            ],
            [
             0.2,
             "#de77ae"
            ],
            [
             0.3,
             "#f1b6da"
            ],
            [
             0.4,
             "#fde0ef"
            ],
            [
             0.5,
             "#f7f7f7"
            ],
            [
             0.6,
             "#e6f5d0"
            ],
            [
             0.7,
             "#b8e186"
            ],
            [
             0.8,
             "#7fbc41"
            ],
            [
             0.9,
             "#4d9221"
            ],
            [
             1,
             "#276419"
            ]
           ],
           "sequential": [
            [
             0,
             "#0d0887"
            ],
            [
             0.1111111111111111,
             "#46039f"
            ],
            [
             0.2222222222222222,
             "#7201a8"
            ],
            [
             0.3333333333333333,
             "#9c179e"
            ],
            [
             0.4444444444444444,
             "#bd3786"
            ],
            [
             0.5555555555555556,
             "#d8576b"
            ],
            [
             0.6666666666666666,
             "#ed7953"
            ],
            [
             0.7777777777777778,
             "#fb9f3a"
            ],
            [
             0.8888888888888888,
             "#fdca26"
            ],
            [
             1,
             "#f0f921"
            ]
           ],
           "sequentialminus": [
            [
             0,
             "#0d0887"
            ],
            [
             0.1111111111111111,
             "#46039f"
            ],
            [
             0.2222222222222222,
             "#7201a8"
            ],
            [
             0.3333333333333333,
             "#9c179e"
            ],
            [
             0.4444444444444444,
             "#bd3786"
            ],
            [
             0.5555555555555556,
             "#d8576b"
            ],
            [
             0.6666666666666666,
             "#ed7953"
            ],
            [
             0.7777777777777778,
             "#fb9f3a"
            ],
            [
             0.8888888888888888,
             "#fdca26"
            ],
            [
             1,
             "#f0f921"
            ]
           ]
          },
          "colorway": [
           "#636efa",
           "#EF553B",
           "#00cc96",
           "#ab63fa",
           "#FFA15A",
           "#19d3f3",
           "#FF6692",
           "#B6E880",
           "#FF97FF",
           "#FECB52"
          ],
          "font": {
           "color": "#2a3f5f"
          },
          "geo": {
           "bgcolor": "white",
           "lakecolor": "white",
           "landcolor": "#E5ECF6",
           "showlakes": true,
           "showland": true,
           "subunitcolor": "white"
          },
          "hoverlabel": {
           "align": "left"
          },
          "hovermode": "closest",
          "mapbox": {
           "style": "light"
          },
          "paper_bgcolor": "white",
          "plot_bgcolor": "#E5ECF6",
          "polar": {
           "angularaxis": {
            "gridcolor": "white",
            "linecolor": "white",
            "ticks": ""
           },
           "bgcolor": "#E5ECF6",
           "radialaxis": {
            "gridcolor": "white",
            "linecolor": "white",
            "ticks": ""
           }
          },
          "scene": {
           "xaxis": {
            "backgroundcolor": "#E5ECF6",
            "gridcolor": "white",
            "gridwidth": 2,
            "linecolor": "white",
            "showbackground": true,
            "ticks": "",
            "zerolinecolor": "white"
           },
           "yaxis": {
            "backgroundcolor": "#E5ECF6",
            "gridcolor": "white",
            "gridwidth": 2,
            "linecolor": "white",
            "showbackground": true,
            "ticks": "",
            "zerolinecolor": "white"
           },
           "zaxis": {
            "backgroundcolor": "#E5ECF6",
            "gridcolor": "white",
            "gridwidth": 2,
            "linecolor": "white",
            "showbackground": true,
            "ticks": "",
            "zerolinecolor": "white"
           }
          },
          "shapedefaults": {
           "line": {
            "color": "#2a3f5f"
           }
          },
          "ternary": {
           "aaxis": {
            "gridcolor": "white",
            "linecolor": "white",
            "ticks": ""
           },
           "baxis": {
            "gridcolor": "white",
            "linecolor": "white",
            "ticks": ""
           },
           "bgcolor": "#E5ECF6",
           "caxis": {
            "gridcolor": "white",
            "linecolor": "white",
            "ticks": ""
           }
          },
          "title": {
           "x": 0.05
          },
          "xaxis": {
           "automargin": true,
           "gridcolor": "white",
           "linecolor": "white",
           "ticks": "",
           "title": {
            "standoff": 15
           },
           "zerolinecolor": "white",
           "zerolinewidth": 2
          },
          "yaxis": {
           "automargin": true,
           "gridcolor": "white",
           "linecolor": "white",
           "ticks": "",
           "title": {
            "standoff": 15
           },
           "zerolinecolor": "white",
           "zerolinewidth": 2
          }
         }
        }
       }
      }
     },
     "metadata": {},
     "output_type": "display_data"
    }
   ],
   "source": [
    "fig = go.Figure(\n",
    "    data=[\n",
    "        go.Mesh3d(\n",
    "            x=[0, 1, 2, 0],\n",
    "            y=[0, 0, 1, 2],\n",
    "            z=[0, 2, 0, 1],\n",
    "            colorbar=dict(title=dict(text=\"z\")),\n",
    "            colorscale=[[0, \"gold\"], [0.5, \"mediumturquoise\"], [1, \"magenta\"]],\n",
    "            # Intensity of each vertex, which will be interpolated and color-coded\n",
    "            intensity=[0, 0.33, 0.66, 1],\n",
    "            # i, j and k give the vertices of triangles\n",
    "            # here we represent the 4 triangles of the tetrahedron surface\n",
    "            i=[0, 0, 0, 1],\n",
    "            j=[1, 2, 3, 2],\n",
    "            k=[2, 3, 1, 3],\n",
    "            name=\"y\",\n",
    "            showscale=True,\n",
    "        )\n",
    "    ]\n",
    ")\n",
    "\n",
    "fig.show()\n"
   ]
  },
  {
   "cell_type": "code",
   "execution_count": null,
   "metadata": {},
   "outputs": [],
   "source": []
  },
  {
   "cell_type": "code",
   "execution_count": 92,
   "metadata": {},
   "outputs": [
    {
     "data": {
      "application/vnd.plotly.v1+json": {
       "config": {
        "plotlyServerURL": "https://plot.ly"
       },
       "data": [
        {
         "i": {
          "bdata": "AAAAAAAAAAAAAAAAAAAAAAAACwALAA0ADQAPAA8AEQARABEAEQARABEAEQARABEAEQAbABsAGwAbABsAIAAgACIAIgAkACQAAQAnACgAKQAqACsAKwAtAC0ALwAvADEAMgAyADIAMgAyADIAMgAyADIAMgAyADIAMgAyAEAAQABCAEIAMAAwADEAMQAxAEcASABJAEkASwBMAE0ATgBOAAEAAQAnACcAKAAoACkAKQAqACoAKwArAC0ALQAvAC8AMQAxAEcARwBIAEgASQBJAEsASwBMAEwATQBNAE4ATgBPAE8ASgBKAEYARgBFAEUARABEAEMAQwBBAEEAPwA/AD4APgA9AD0APAA8ADsAOwA6ADoAOQA5ADgAOAA3ADcANgA2ADUANQA0ADQAMwAzACUAJQAjACMAIQAhAB8AHwAeAB4AHQAdABwAHAAaABoAGQAZABgAGAAXABcAFgAWABUAFQAUABQAEwATABIAEgAQABAADgAOAAwADAAKAAoACQAJAAgACAAHAAcABgAGAAUABQAEAAQAAwADAAIAAgAAAAAACwALAA0ADQAPAA8AEQARABsAGwAgACAAIgAiACQAJAAyADIAQABAAEIAQgAwADAALgAuACwALAAmACYAUQBRAFAAUABSAFIAUwBTAFQAVABVAFUAVgBWAFcAVwBYAFgAWQBZAFoAWgBbAFsAXABcAF0AXQBeAF4AXwBfAGAAYABhAGEAYgBiAGMAYwBkAGQAZQBlAGYAZgBnAGcAaABoAGkAaQBqAGoAawBrAGwAbABtAG0AbgBuAG8AbwBwAHAAcQBxAHIAcgBzAHMAdAB0AHUAdQB2AHYAdwB3AHgAeAB5AHkAegB6AHsAewB8AHwAfQB9AH4AfgB/AH8AgACAAIEAgQCCAIIAgwCDAIQAhACFAIUAhgCGAIcAhwCIAIgAiQCJAIoAigCLAIsAjACMAI0AjQCOAI4AjwCPAJEAkQCQAJAAkgCSAJMAkwCUAJQAlQCVAJYAlgCXAJcAmACYAJkAmQCaAJoAmwCbAJwAnACdAJ0AngCeAJ8AnwDfAN4A3QDcANsA2gDZANgA1wDXANYA1gDVANUA1ADUANMA0gDRANAAzwDOAM0AzADLAMoAygDJAMgAxwDHAMYAxgDFAMUAxADvAO8A7wDvAO8A7wDuAO4A7QDtAOwA7ADEAMMAwgDBAMAAvwC+AL0AvAC7ALoAuQC4ALcAtwC2ALYAtQC1ALUAtACzALIAsgCyALIAsQCxALEAsQCxALAA8ADwAPQA9AD0APQA9AD0APQA9AD0APQA9AD0APEA8QDwAPAA9AD0AP8A/wD+AP4A/QD9APwA/AD7APsA+gD6APkA+QD4APgA9wD3APYA9gD1APUA8wDzAPIA8gABAQEBAAEAAQIBAgEDAQMBBAEEAQUBBQEGAQYBBwEHAQgBCAEJAQkBCgEKAQsBCwEMAQwBDQENAQ4BDgEPAQ8BFwEWARYBFQEUARMBEgEQAREBHwEeAR0BHAEbASABIAEkASUBJgEnASgBKQEqASsBLAEtAS4BLwEmASYBJwEnASgBKAEpASkBKgEqASsBKwEsASwBLQEtAS4BLgEvAS8BIwEjASIBIgEhASEBIAEgASQBJAElASUBMQExATABMAEyATIBMwEzATQBNAE1ATUBNgE2ATcBNwE4ATgBOQE5AToBOgE7ATsBPAE8AT0BPQE+AT4BPwE/AUcBRgFGAUUBRAFDAUIBQAFBAU8BTgFNAUwBSwFQAVMBVgFWAVYBWQFZAVsBWwFdAV0BXwFfAWEBYQFjAWMBZQFlAWcBZwFpAWkBawFrAW0BbQFvAW8BcQFxAXMBcwF1AXUBdwF3AXkBeQF7AXsBfQF9AX8BfwGBAYEBgwGDAYUBhQGHAYcBiQGJAYsBiwGNAY0BjwGPAZEBkQGTAZMBlQGVAZcBlwGZAZkBmwGbAZ0BnQGfAZ8BoQGhAaIBogGjAaMBowFSAVIBUQFRAVABUAGgAaABngGeAZwBnAGaAZoBmAGYAZYBlgGUAZQBkgGSAZABkAGOAY4BjAGMAYoBigGIAYgBhgGGAYQBhAGCAYIBgAGAAX4BfgF8AXwBegF6AXgBeAF2AXYBdAF0AXIBcgFwAXABbgFuAWwBbAFqAWoBaAFoAWYBZgFkAWQBYgFiAWABYAFeAV4BXAFcAVoBWgFYAVgBVQFVAVQBVAFTAVMBVwFXAVYBVgFZAVkBWwFbAV0BXQFfAV8BYQFhAWMBYwFlAWUBZwFnAWkBaQFrAWsBbQFtAW8BbwFxAXEBcwFzAXUBdQF3AXcBeQF5AXsBewF9AX0BfwF/AYEBgQGDAYMBhQGFAYcBhwGJAYkBiwGLAY0BjQGPAY8BkQGRAZMBkwGVAZUBlwGXAZkBmQGbAZsBnQGdAZ8BnwGhAaEBogGiAaQBzQHPAc0BzAHMAcsBywHKAcoByQHJAcgByAHHAccBxgHGAcUBxQHEAcQBwwHDAcIBwgHBAcEBwAHAAb8BvwG+Ab4BvQG9AbwBvAG7AbsBugG6AbkBuQG4AbgBtwG3AbYBtgG1AbUBtAG0AbMBswGyAbIBsQGxAbABsAGvAa8BrgGuAa0BrQGsAawBqwGrAaoBqgGpAakBqAGoAacBpwGkAaQB+AH7AfwB/AH+Af4BAAIAAgACAwIEAgUCBgIEAgcCBgIIAgcCCQIIAgoCCQILAgoCDAILAg0CDAIOAg0CDwIOAgUCDwILAgsCCwIMAgwCDQINAg4CDwIPAhACEwIUAhQCFgIWAhgCGQIaAhsCGwIbAhsCGwIbAhsCIgIjAiQCJQIlAiUCJQIlAiUCJQIlAi0CLgIvAi0CMAIvAjECMAIyAjECMwIyAjQCMwI1AjQCNgI1AjcCNgI4AjcCOQI4AjoCOQI7AjoCPAI7Aj0CPAI+Aj0CPwI+AkACPwJBAkACQgJBAkMCQgJEAkMCRQJEAkYCRQJHAkYCSAJHAkkCSAIuAkkCMAIwAjACMQIxAjICMgIyAjICMgIzAjQCNQI2AjcCOAI4AjgCOAI4AjkCOgI7AjwCPQI+Aj8CSgJKAkoCSgJKAkoCSgJKAkoCSgJKAkoCSgJKAkoCSgJLAksCTAJMAk0CTQJOAk4CTwJPAlACUAJRAlECUgJSAlMCUwJUAlQCVQJVAlYCVgJXAlcCWAJYAlkCWQJaAloCWwJbAlwCXAJdAl0CXgJeAl8CXwJgAmACYQJhAmICYgJjAmMCZAJkAmUCZQJmAmYCZwJnAmgCaAJpAmkCagJqAmsCawJsAmwCbQJtAm4CbgJvAm8CcAJwAnECcQJyAnICcwJzAnQCdAJ1AnUCdgJ2AncCdwJ4AngCeQJ5AnoCegJ7AnsCewJ7AnsCewJ7AnsCewJ7AnsCewJ7AnsCiwKLAosCiwKLAosCiwKLAosCiwKLAosCiwKLAosCiwKMAowCjQKNAo4CjgKPAo8CkAKQApECkQKSApICkwKTApQClAKVApUClgKWApcClwKYApgCmQKZApoCmgKbApsCnAKcAp0CnQKeAp4CnwKfAqACoAKhAqECogKiAqMCowKkAqQCpQKlAqYCpgKnAqcCqAKoAqkCqQKqAqoCqwKrAqwCrAKtAq0CrgKuAq8CrwKwArACsQKxArICsgKzArMCtAK0ArUCtQK2ArYCtwK3ArgCuAK5ArkCugK6ArsCuwK8ArwCvAK8ArwCvAK8ArwCvAK8ArwCvAK8ArwCzALMAswC0QLRAtMC0wLTAtMC0wLYAtkC2gLbAtwC3QLdAt0C3QLdAuIC4wLkAuUC5gLnAugCzwLPAs4CzgLNAs0CzALMAtEC0QLTAtMC2ALYAtkC2QLaAtoC2wLbAtwC3ALdAt0C4gLiAuMC4wLkAuQC5QLlAuYC5gLnAucC6ALoAuEC4QLgAuAC3wLfAt4C3gLXAtcC1gLWAtUC1QLUAtQC0gLSAtAC0ALpAuoCBQMFAwQDBAMDAwIDAQMAAwADAAMAAwADAAMAA/8C/gL9AvwC/AL8AvwC/AL8AvwC/AIGAwYDBgMLAwsDDQMNAw8DEAMQAxEDEQMOAw4DDAMMAwoDCgMJAwkDCAMIAwcDBwMGAwYDCwMLAw0DDQMPAw8DEAMQAxcDFgMVAxUDFAMUAxIDEgMSAxMDHgMeAx4DHgMfAx8DIAMgAyEDIQMiAyIDJgMnAykDKgMrAywDLQMuAy8DMAMxAzIDMwM0AzUDNgM3AzgDOQM6AzsDPAM9Az4DJgMmAycDJwMpAykDKgMqAysDKwMsAywDLQMtAy4DLgMvAy8DMAMwAzEDMQMyAzIDMwMzAzQDNAM1AzUDNgM2AzcDNwM4AzgDOQM5AzoDOgM7AzsDPAM8Az0DPQM+Az4DPwNAA0EDQgNDA0QDRQNGA0cDSANJA0oDSwNMA00DTgNPA1ADUQNSA1MDVANVA1YDWANbA1wDXQNeA14DXgNeA2IDYwNkA2QDZgNmA2gDaANqA2oDbANtA20DbQNtA20DbQNtA20DbQNtA3cDbANsA20DbQN3A3cDdgN2A3UDdQN0A3QDcwNzA3IDcgNxA3EDcANwA28DbwNuA24DawNrA2kDaQNnA2cDZQNlA2EDYQNgA2ADXwNfA1oDWgNZA1kDWANYA1sDWwNcA1wDXQNdA14DXgNiA2IDYwNjA2QDZANmA2YDaANoA2oDagN5A3kDeAN4A3oDegN7A3sDfAN8A30DfQN+A34DfwN/A4ADgAOBA4EDggOCA4MDgwOEA4QDhQOFA4YDhgOHA4cDiAOIA4kDiQOKA4oDiwOLA4wDjAONA40DjgOOA48DjwOQA5ADkQORA5IDkgOTA5MDlAOUA5UDlQOWA5YDlwOXA68DrwOuA60DrAOrA6oDqQOoA6gDqAOnA6cDpgOmA6UDpQOkA6QDowOjA6IDogOhA6ADnwOeA50DnAObA7gDuwO8A70DvQO9A70DvQO9A70DvQPFA8UDxwPHA8kDyQPLA8sDywPOA84DzgPOA84D0wPUA9UD1gPXA8sDywPOA84D0wPTA9QD1APVA9UD1gPWA9cD1wPSA9ID0QPRA9AD0APPA88DzQPNA8wDzAPKA8oDyAPIA8YDxgPEA8QDwwPDA8IDwgPBA8EDwAPAA78DvwO+A74DugO6A7kDuQO4A7gDuwO7A7wDvAO9A70DxQPFA8cDxwPJA8kD2QPZA9gD2APaA9oD2wPbA9wD3APdA90D3gPeA98D3wPgA+AD4QPhA+ID4gPjA+MD5APkA+UD5QPmA+YD5wPnA+gD6APpA+kD6gPqA+sD6wPsA+wD7QPtA+4D7gPvA+8D8APwA/ED8QPyA/ID8wPzA/QD9AP1A/UD9gP2A/cD9wMPBA4EDgQOBA4EDQQMBAsECgQJBAgECAQHBAcEBgQGBAUEBQQEBAMEAwQCBAIEAQQABP8D/gP+A/4D/gMYBBgEHAQdBB4EHwQgBCAEIAQgBCAEIAQgBCAEJgQmBCUEJQQkBCQEIwQjBCIEIgQhBCEEGwQbBBoEGgQZBBkEGAQYBBwEHAQdBB0EHgQeBB8EHwQgBCAEJwQnBCkEKQQoBCgEKgQqBCsEKwQsBCwELQQtBC4ELgQvBC8EMAQwBDEEMQQyBDIEMwQzBDQENAQ1BDUENgQ2BDcENwQ/BD4EPgQ9BDwEOwQ6BDoEOgQ6BDoEOAQ5BEcESARLBEwETQROBE8EUARRBFEEUQRRBFEEVgRWBFgEWARaBFoEXARdBF0EXwRgBGEEYgRjBGQEZQRmBGYEVARUBFMEUwRSBFIESgRKBEkESQRIBEgESwRLBEwETARNBE0ETgROBE8ETwRQBFAEUQRRBFYEVgRYBFgEWgRaBFwEXARdBF0EXwRfBGAEYARhBGEEYgRiBGMEYwRkBGQEZQRlBGYEZgRnBGcEXgReBFsEWwRZBFkEVwRXBFUEVQRpBGkEaARoBGoEagRrBGsEbARsBG0EbQRuBG4EbwRvBHAEcARxBHEEcgRyBHMEcwR0BHQEdQR1BHYEdgR3BHcEeAR4BHkEeQR6BHoEewR7BHwEfAR9BH0EfgR+BH8EfwSABIAEgQSBBIIEggSDBIMEhASEBIUEhQSGBIYEhwSHBJ8EngSeBJ4EngSdBJwEmwSaBJkEmASXBJcElgSWBJUElQSUBJQEkwSTBJIEkgSRBJAEjwSOBI0EjASLBKgEqQSrBKwErQSuBK8EsASxBLIEswS0BLUEtgS3BLgEuQS6BLsEvAS9BL4EvwTABKgEqASpBKkEqwSrBKwErAStBK0ErgSuBK8ErwSwBLAEsQSxBLIEsgSzBLMEtAS0BLUEtQS2BLYEtwS3BLgEuAS5BLkEugS6BLsEuwS8BLwEvQS9BL4EvgS/BL8EwATABMEEwgTDBMQExQTGBMcEyATJBMoEywTMBM0EzgTPBNAE0QTSBNME1ATVBNYE1wTYBNoE3QTeBN8E4AThBOIE4wTjBOME4wTnBOcE6QTpBOsE6wTtBO0E7wTvBO8E7wTvBO8E7wTvBO8E7wT5BO0E7QTvBO8E+QT5BPgE+AT3BPcE9gT2BPUE9QT0BPQE8wTzBPIE8gTxBPEE8ATwBO4E7gTsBOwE6gTqBOgE6ATmBOYE5QTlBOQE5ATcBNwE2wTbBNoE2gTdBN0E3gTeBN8E3wTgBOAE4QThBOIE4gTjBOME5wTnBOkE6QTrBOsE+wT7BPoE+gT8BPwE/QT9BP4E/gT/BP8EAAUABQEFAQUCBQIFAwUDBQQFBAUFBQUFBgUGBQcFBwUIBQgFCQUJBQoFCgULBQsFDAUMBQ0FDQUOBQ4FDwUPBRAFEAURBREFEgUSBRMFEwUUBRQFFQUVBRYFFgUXBRcFGAUYBRkFGQUhBSAFIAUgBSAFHwUeBR0FHAUaBRsFGwU5BTkFOAU4BTcFNwU2BTUFNQU0BTQFMwUyBTEFMAUwBTAFMAU6BToFPgU+BT4FPgU+BUMFQwVDBUYFRgVIBUkFSQVLBUwFTQVOBU8FUAVRBVIFUwVUBVUFVgVXBVgFWQVaBVoFXAVcBV4FXgVeBV4FXgVeBV4FXgVeBV4FXgVeBV4FXgVeBV4FXgVeBV4FcQVyBXMFcwV1BXYFdwV4BXkFXQVdBVsFWwVKBUoFRwVHBUUFRQVEBUQFQgVCBUEFQQVABUAFPwU/BT0FPQU8BTwFOwU7BToFOgU+BT4FQwVDBUYFRgVIBUgFSQVJBUsFSwVMBUwFTQVNBU4FTgVPBU8FUAVQBVEFUQVSBVIFUwVTBVQFVAVVBVUFVgVWBVcFVwVYBVgFWQVZBVoFWgVcBVwFXgVeBXEFcQVyBXIFcwVzBXUFdQV2BXYFdwV3BXgFeAV5BXkFdAV0BXAFcAVvBW8FbgVuBW0FbQVsBWwFawVrBWoFagVpBWkFaAVoBWcFZwVmBWYFZQVlBWQFZAVjBWMFYgViBWEFYQVgBWAFXwVfBXsFewV6BXoFfAV8BX0FfQV+BX4FfwV/BYAFgAWBBYEFggWCBYMFgwWEBYQFhQWFBYYFhgWHBYcFiAWIBYkFiQWKBYoFiwWLBYwFjAWNBY0FjgWOBY8FjwWQBZAFkQWRBZIFkgWTBZMFlAWUBZUFlQWWBZYFlwWXBZgFmAWZBZkFmgWaBZsFmwWcBZwFnQWdBZ4FngWfBZ8FoAWgBaEFoQWiBaIFowWjBaQFpAWlBaUFpgWmBacFpwWoBagFqQWpBaoFqgWrBasFrAWsBa0FrQWuBa4FrwWvBbAFsAWxBbEFsgWyBbMFswW0BbQFtQW1BbYFtgW3BbcFuAW4BbkFuQW7BbsFugW6BbwFvAW9Bb0FvgW+Bb8FvwXABcAFwQXBBcIFwgXDBcMFxAXEBcUFxQXGBcYFxwXHBcgFyAXJBckFygXKBcsFywXMBcwFzQXNBc4FzgXPBc8F0AXQBdEF0QXSBdIF0wXTBdQF1AXVBdUF1gXWBdcF1wXYBdgF2QXZBdoF2gXbBdsF3AXcBd0F3QXeBd4F3wXfBeAF4AXhBeEF4gXiBeMF4wXkBeQF5QXlBeYF5gXnBecF6AXoBekF6QXqBeoF6wXrBewF7AXtBe0F7gXuBe8F7wXwBfAF8QXxBfIF8gXzBfMF9AX0BfUF9QX2BfYF9wX3BfgF+AX5BfkF+wX7BfoF+gX8BfwF/QX9Bf4F/gX/Bf8FAAYABgEGAQYCBgIGAwYDBgQGBAYFBgUGBgYGBgcGBwYIBggGCQYJBgoGCgYLBgsGDAYMBg0GDQYOBg4GDwYPBhAGEAYRBhEGEgYSBhMGEwYUBhQGFQYVBhYGFgYXBhcGGAYYBhkGGQYaBhoGGwYbBhwGHAYdBh0GHgYeBh8GHwYgBiAGIQYhBiIGIgYjBiMGJAYkBiUGJQYmBiYGJwYnBigGKAYpBikGKgYqBisGKwYsBiwGLQYtBi4GLgYvBi8GMAYwBjEGMQYyBjIGMwYzBjQGNAY1BjUGNgY2BjcGNwY4BjgGOQY5BlkGWAZYBlcGVgZVBlQGVAZTBlIGUgZRBlEGUAZQBk8GTgZNBkwGSwZKBkkGSAZHBkYGRQZEBkMGQgZBBkAGPwY/Bj4GPgY9BjwGOgY7BnkGeAZ3BnYGdQZ0BnMGcgZxBnAGbwZuBm0GbAZsBmwGawZrBmsGawZrBmsGagZ6BnoGegZ6BnoGegZ6BnoGegaFBoUGhQaFBokGigaKBowGjQaOBo8GkAaRBpIGkwaUBpUGlgaXBpgGmQaaBpoGnAacBp4GngaeBp4GngaeBp4GngaeBp4GngaeBp4GngaeBp4GngavBrAGsQayBrMGtAa1BrYGtwa4BrkGmAaYBpkGmQaaBpoGnAacBp4GngavBq8GsAawBrEGsQayBrIGswazBrQGtAa1BrUGtga2BrcGtwa4BrgGuQa5Bq4GrgatBq0GrAasBqsGqwaqBqoGqQapBqgGqAanBqcGpgamBqUGpQakBqQGowajBqIGogahBqEGoAagBp8GnwadBp0GmwabBosGiwaIBogGhwaHBoYGhgaEBoQGgwaDBoIGggaBBoEGgAaABn8GfwZ+Bn4GfQZ9BnwGfAZ7BnsGegZ6BoUGhQaJBokGigaKBowGjAaNBo0GjgaOBo8GjwaQBpAGkQaRBpIGkgaTBpMGlAaUBpUGlQaWBpYGlwaXBrsGuwa6BroGvAa8Br0GvQa+Br4Gvwa/BsAGwAbBBsEGwgbCBsMGwwbEBsQGxQbFBsYGxgbHBscGyAbIBskGyQbKBsoGywbLBswGzAbNBs0GzgbOBs8GzwbQBtAG0QbRBtIG0gbTBtMG1AbUBtUG1QbWBtYG1wbXBtgG2AbZBtkG2gbaBtsG2wbcBtwG3QbdBt4G3gbfBt8G4AbgBuEG4QbiBuIG4wbjBuQG5AblBuUG5gbmBucG5wboBugG6QbpBuoG6gbrBusG7AbsBu0G7QbuBu4G7wbvBvAG8AbxBvEG8gbyBvMG8wb0BvQG9Qb1BvYG9gb3BvcG+Ab4BvkG+Qb7BvsG+gb6BvwG/Ab9Bv0G/gb+Bv8G/wYABwAHAQcBBwIHAgcDBwMHBAcEBwUHBQcGBwYHBwcHBwgHCAcJBwkHCgcKBwsHCwcMBwwHDQcNBw4HDgcPBw8HEAcQBxEHEQcSBxIHEwcTBxQHFAcVBxUHFgcWBxcHFwcYBxgHGQcZBxoHGgcbBxsHHAccBx0HHQceBx4HHwcfByAHIAchByEHIgciByMHIwckByQHJQclByYHJgcnBycHKAcoBykHKQcqByoHKwcrBywHLActBy0HLgcuBy8HLwcwBzAHMQcxBzIHMgczBzMHNAc0BzUHNQc2BzYHNwc3BzgHOAc5BzkHOwc7BzoHOgc8BzwHPQc9Bz4HPgc/Bz8HQAdAB0EHQQdCB0IHQwdDB0QHRAdFB0UHRgdGB0cHRwdIB0gHSQdJB0oHSgdLB0sHTAdMB00HTQdOB04HTwdPB1AHUAdRB1EHUgdSB1MHUwdUB1QHVQdVB1YHVgdXB1cHWAdYB1kHWQdaB1oHWwdbB1wHXAddB10HXgdeB18HXwdgB2AHYQdhB2IHYgdjB2MHZAdkB2UHZQdmB2YHZwdnB2gHaAdpB2kHagdqB2sHawdsB2wHbQdtB24HbgdvB28HcAdwB3EHcQdyB3IHcwdzB3QHdAd1B3UHdgd2B3cHdwd4B3gHeQd5B3sHewd6B3oHfAd8B30HfQd+B34Hfwd/B4AHgAeBB4EHggeCB4MHgweEB4QHhQeFB4YHhgeHB4cHiAeIB4kHiQeKB4oHiweLB4wHjAeNB40HjgeOB48HjweQB5AHkQeRB5IHkgeTB5MHlAeUB5UHlQeWB5YHlweXB5gHmAeZB5kHmgeaB5sHmwecB5wHnQedB54HngefB58HoAegB6EHoQeiB6IHowejB6QHpAelB6UHpgemB6cHpweoB6gHqQepB6oHqgerB6sHrAesB60HrQeuB64HrwevB7AHsAexB7EHsgeyB7MHswe0B7QHtQe1B7YHtge3B7cHuAe4B7kHuQe7B7sHuge6B7wHvAe9B70Hvge+B78HvwfAB8AHwQfBB8IHwgfDB8MHxAfEB8UHxQfGB8YHxwfHB8gHyAfJB8kHygfKB8sHywfMB8wHzQfNB84HzgfPB88H0AfQB9EH0QfSB9IH0wfTB9QH1AfVB9UH1gfWB9cH1wfYB9gH2QfZB9oH2gfbB9sH3AfcB90H3QfeB94H3wffB+AH4AfhB+EH4gfiB+MH4wfkB+QH5QflB+YH5gfnB+cH6AfoB+kH6QfqB+oH6wfrB+wH7AftB+0H7gfuB+8H7wfwB/AH8QfxB/IH8gfzB/MH9Af0B/UH9Qf2B/YH9wf3B/gH+Af5B/kHJQglCCQIJAgkCCQIJAgjCCMIIwgiCCEIIQghCCAIIAggCCAIIAggCCAIIAggCCAIIAggCCAIIAggCCAIIAgfCB8IHggeCB0IHAgbCBoIGQgYCBcIFggVCBQIEwgSCBEIEAgPCA4IDQgMCAwIDAgMCAsICwgLCAsICwgKCA==",
          "dtype": "i2"
         },
         "j": {
          "bdata": "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",
          "dtype": "i2"
         },
         "k": {
          "bdata": "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",
          "dtype": "i2"
         },
         "type": "mesh3d",
         "x": {
          "bdata": "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",
          "dtype": "f8"
         },
         "y": {
          "bdata": "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",
          "dtype": "f8"
         },
         "z": {
          "bdata": "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",
          "dtype": "f8"
         }
        }
       ],
       "layout": {
        "template": {
         "data": {
          "bar": [
           {
            "error_x": {
             "color": "#2a3f5f"
            },
            "error_y": {
             "color": "#2a3f5f"
            },
            "marker": {
             "line": {
              "color": "#E5ECF6",
              "width": 0.5
             },
             "pattern": {
              "fillmode": "overlay",
              "size": 10,
              "solidity": 0.2
             }
            },
            "type": "bar"
           }
          ],
          "barpolar": [
           {
            "marker": {
             "line": {
              "color": "#E5ECF6",
              "width": 0.5
             },
             "pattern": {
              "fillmode": "overlay",
              "size": 10,
              "solidity": 0.2
             }
            },
            "type": "barpolar"
           }
          ],
          "carpet": [
           {
            "aaxis": {
             "endlinecolor": "#2a3f5f",
             "gridcolor": "white",
             "linecolor": "white",
             "minorgridcolor": "white",
             "startlinecolor": "#2a3f5f"
            },
            "baxis": {
             "endlinecolor": "#2a3f5f",
             "gridcolor": "white",
             "linecolor": "white",
             "minorgridcolor": "white",
             "startlinecolor": "#2a3f5f"
            },
            "type": "carpet"
           }
          ],
          "choropleth": [
           {
            "colorbar": {
             "outlinewidth": 0,
             "ticks": ""
            },
            "type": "choropleth"
           }
          ],
          "contour": [
           {
            "colorbar": {
             "outlinewidth": 0,
             "ticks": ""
            },
            "colorscale": [
             [
              0,
              "#0d0887"
             ],
             [
              0.1111111111111111,
              "#46039f"
             ],
             [
              0.2222222222222222,
              "#7201a8"
             ],
             [
              0.3333333333333333,
              "#9c179e"
             ],
             [
              0.4444444444444444,
              "#bd3786"
             ],
             [
              0.5555555555555556,
              "#d8576b"
             ],
             [
              0.6666666666666666,
              "#ed7953"
             ],
             [
              0.7777777777777778,
              "#fb9f3a"
             ],
             [
              0.8888888888888888,
              "#fdca26"
             ],
             [
              1,
              "#f0f921"
             ]
            ],
            "type": "contour"
           }
          ],
          "contourcarpet": [
           {
            "colorbar": {
             "outlinewidth": 0,
             "ticks": ""
            },
            "type": "contourcarpet"
           }
          ],
          "heatmap": [
           {
            "colorbar": {
             "outlinewidth": 0,
             "ticks": ""
            },
            "colorscale": [
             [
              0,
              "#0d0887"
             ],
             [
              0.1111111111111111,
              "#46039f"
             ],
             [
              0.2222222222222222,
              "#7201a8"
             ],
             [
              0.3333333333333333,
              "#9c179e"
             ],
             [
              0.4444444444444444,
              "#bd3786"
             ],
             [
              0.5555555555555556,
              "#d8576b"
             ],
             [
              0.6666666666666666,
              "#ed7953"
             ],
             [
              0.7777777777777778,
              "#fb9f3a"
             ],
             [
              0.8888888888888888,
              "#fdca26"
             ],
             [
              1,
              "#f0f921"
             ]
            ],
            "type": "heatmap"
           }
          ],
          "histogram": [
           {
            "marker": {
             "pattern": {
              "fillmode": "overlay",
              "size": 10,
              "solidity": 0.2
             }
            },
            "type": "histogram"
           }
          ],
          "histogram2d": [
           {
            "colorbar": {
             "outlinewidth": 0,
             "ticks": ""
            },
            "colorscale": [
             [
              0,
              "#0d0887"
             ],
             [
              0.1111111111111111,
              "#46039f"
             ],
             [
              0.2222222222222222,
              "#7201a8"
             ],
             [
              0.3333333333333333,
              "#9c179e"
             ],
             [
              0.4444444444444444,
              "#bd3786"
             ],
             [
              0.5555555555555556,
              "#d8576b"
             ],
             [
              0.6666666666666666,
              "#ed7953"
             ],
             [
              0.7777777777777778,
              "#fb9f3a"
             ],
             [
              0.8888888888888888,
              "#fdca26"
             ],
             [
              1,
              "#f0f921"
             ]
            ],
            "type": "histogram2d"
           }
          ],
          "histogram2dcontour": [
           {
            "colorbar": {
             "outlinewidth": 0,
             "ticks": ""
            },
            "colorscale": [
             [
              0,
              "#0d0887"
             ],
             [
              0.1111111111111111,
              "#46039f"
             ],
             [
              0.2222222222222222,
              "#7201a8"
             ],
             [
              0.3333333333333333,
              "#9c179e"
             ],
             [
              0.4444444444444444,
              "#bd3786"
             ],
             [
              0.5555555555555556,
              "#d8576b"
             ],
             [
              0.6666666666666666,
              "#ed7953"
             ],
             [
              0.7777777777777778,
              "#fb9f3a"
             ],
             [
              0.8888888888888888,
              "#fdca26"
             ],
             [
              1,
              "#f0f921"
             ]
            ],
            "type": "histogram2dcontour"
           }
          ],
          "mesh3d": [
           {
            "colorbar": {
             "outlinewidth": 0,
             "ticks": ""
            },
            "type": "mesh3d"
           }
          ],
          "parcoords": [
           {
            "line": {
             "colorbar": {
              "outlinewidth": 0,
              "ticks": ""
             }
            },
            "type": "parcoords"
           }
          ],
          "pie": [
           {
            "automargin": true,
            "type": "pie"
           }
          ],
          "scatter": [
           {
            "fillpattern": {
             "fillmode": "overlay",
             "size": 10,
             "solidity": 0.2
            },
            "type": "scatter"
           }
          ],
          "scatter3d": [
           {
            "line": {
             "colorbar": {
              "outlinewidth": 0,
              "ticks": ""
             }
            },
            "marker": {
             "colorbar": {
              "outlinewidth": 0,
              "ticks": ""
             }
            },
            "type": "scatter3d"
           }
          ],
          "scattercarpet": [
           {
            "marker": {
             "colorbar": {
              "outlinewidth": 0,
              "ticks": ""
             }
            },
            "type": "scattercarpet"
           }
          ],
          "scattergeo": [
           {
            "marker": {
             "colorbar": {
              "outlinewidth": 0,
              "ticks": ""
             }
            },
            "type": "scattergeo"
           }
          ],
          "scattergl": [
           {
            "marker": {
             "colorbar": {
              "outlinewidth": 0,
              "ticks": ""
             }
            },
            "type": "scattergl"
           }
          ],
          "scattermap": [
           {
            "marker": {
             "colorbar": {
              "outlinewidth": 0,
              "ticks": ""
             }
            },
            "type": "scattermap"
           }
          ],
          "scattermapbox": [
           {
            "marker": {
             "colorbar": {
              "outlinewidth": 0,
              "ticks": ""
             }
            },
            "type": "scattermapbox"
           }
          ],
          "scatterpolar": [
           {
            "marker": {
             "colorbar": {
              "outlinewidth": 0,
              "ticks": ""
             }
            },
            "type": "scatterpolar"
           }
          ],
          "scatterpolargl": [
           {
            "marker": {
             "colorbar": {
              "outlinewidth": 0,
              "ticks": ""
             }
            },
            "type": "scatterpolargl"
           }
          ],
          "scatterternary": [
           {
            "marker": {
             "colorbar": {
              "outlinewidth": 0,
              "ticks": ""
             }
            },
            "type": "scatterternary"
           }
          ],
          "surface": [
           {
            "colorbar": {
             "outlinewidth": 0,
             "ticks": ""
            },
            "colorscale": [
             [
              0,
              "#0d0887"
             ],
             [
              0.1111111111111111,
              "#46039f"
             ],
             [
              0.2222222222222222,
              "#7201a8"
             ],
             [
              0.3333333333333333,
              "#9c179e"
             ],
             [
              0.4444444444444444,
              "#bd3786"
             ],
             [
              0.5555555555555556,
              "#d8576b"
             ],
             [
              0.6666666666666666,
              "#ed7953"
             ],
             [
              0.7777777777777778,
              "#fb9f3a"
             ],
             [
              0.8888888888888888,
              "#fdca26"
             ],
             [
              1,
              "#f0f921"
             ]
            ],
            "type": "surface"
           }
          ],
          "table": [
           {
            "cells": {
             "fill": {
              "color": "#EBF0F8"
             },
             "line": {
              "color": "white"
             }
            },
            "header": {
             "fill": {
              "color": "#C8D4E3"
             },
             "line": {
              "color": "white"
             }
            },
            "type": "table"
           }
          ]
         },
         "layout": {
          "annotationdefaults": {
           "arrowcolor": "#2a3f5f",
           "arrowhead": 0,
           "arrowwidth": 1
          },
          "autotypenumbers": "strict",
          "coloraxis": {
           "colorbar": {
            "outlinewidth": 0,
            "ticks": ""
           }
          },
          "colorscale": {
           "diverging": [
            [
             0,
             "#8e0152"
            ],
            [
             0.1,
             "#c51b7d"
            ],
            [
             0.2,
             "#de77ae"
            ],
            [
             0.3,
             "#f1b6da"
            ],
            [
             0.4,
             "#fde0ef"
            ],
            [
             0.5,
             "#f7f7f7"
            ],
            [
             0.6,
             "#e6f5d0"
            ],
            [
             0.7,
             "#b8e186"
            ],
            [
             0.8,
             "#7fbc41"
            ],
            [
             0.9,
             "#4d9221"
            ],
            [
             1,
             "#276419"
            ]
           ],
           "sequential": [
            [
             0,
             "#0d0887"
            ],
            [
             0.1111111111111111,
             "#46039f"
            ],
            [
             0.2222222222222222,
             "#7201a8"
            ],
            [
             0.3333333333333333,
             "#9c179e"
            ],
            [
             0.4444444444444444,
             "#bd3786"
            ],
            [
             0.5555555555555556,
             "#d8576b"
            ],
            [
             0.6666666666666666,
             "#ed7953"
            ],
            [
             0.7777777777777778,
             "#fb9f3a"
            ],
            [
             0.8888888888888888,
             "#fdca26"
            ],
            [
             1,
             "#f0f921"
            ]
           ],
           "sequentialminus": [
            [
             0,
             "#0d0887"
            ],
            [
             0.1111111111111111,
             "#46039f"
            ],
            [
             0.2222222222222222,
             "#7201a8"
            ],
            [
             0.3333333333333333,
             "#9c179e"
            ],
            [
             0.4444444444444444,
             "#bd3786"
            ],
            [
             0.5555555555555556,
             "#d8576b"
            ],
            [
             0.6666666666666666,
             "#ed7953"
            ],
            [
             0.7777777777777778,
             "#fb9f3a"
            ],
            [
             0.8888888888888888,
             "#fdca26"
            ],
            [
             1,
             "#f0f921"
            ]
           ]
          },
          "colorway": [
           "#636efa",
           "#EF553B",
           "#00cc96",
           "#ab63fa",
           "#FFA15A",
           "#19d3f3",
           "#FF6692",
           "#B6E880",
           "#FF97FF",
           "#FECB52"
          ],
          "font": {
           "color": "#2a3f5f"
          },
          "geo": {
           "bgcolor": "white",
           "lakecolor": "white",
           "landcolor": "#E5ECF6",
           "showlakes": true,
           "showland": true,
           "subunitcolor": "white"
          },
          "hoverlabel": {
           "align": "left"
          },
          "hovermode": "closest",
          "mapbox": {
           "style": "light"
          },
          "paper_bgcolor": "white",
          "plot_bgcolor": "#E5ECF6",
          "polar": {
           "angularaxis": {
            "gridcolor": "white",
            "linecolor": "white",
            "ticks": ""
           },
           "bgcolor": "#E5ECF6",
           "radialaxis": {
            "gridcolor": "white",
            "linecolor": "white",
            "ticks": ""
           }
          },
          "scene": {
           "xaxis": {
            "backgroundcolor": "#E5ECF6",
            "gridcolor": "white",
            "gridwidth": 2,
            "linecolor": "white",
            "showbackground": true,
            "ticks": "",
            "zerolinecolor": "white"
           },
           "yaxis": {
            "backgroundcolor": "#E5ECF6",
            "gridcolor": "white",
            "gridwidth": 2,
            "linecolor": "white",
            "showbackground": true,
            "ticks": "",
            "zerolinecolor": "white"
           },
           "zaxis": {
            "backgroundcolor": "#E5ECF6",
            "gridcolor": "white",
            "gridwidth": 2,
            "linecolor": "white",
            "showbackground": true,
            "ticks": "",
            "zerolinecolor": "white"
           }
          },
          "shapedefaults": {
           "line": {
            "color": "#2a3f5f"
           }
          },
          "ternary": {
           "aaxis": {
            "gridcolor": "white",
            "linecolor": "white",
            "ticks": ""
           },
           "baxis": {
            "gridcolor": "white",
            "linecolor": "white",
            "ticks": ""
           },
           "bgcolor": "#E5ECF6",
           "caxis": {
            "gridcolor": "white",
            "linecolor": "white",
            "ticks": ""
           }
          },
          "title": {
           "x": 0.05
          },
          "xaxis": {
           "automargin": true,
           "gridcolor": "white",
           "linecolor": "white",
           "ticks": "",
           "title": {
            "standoff": 15
           },
           "zerolinecolor": "white",
           "zerolinewidth": 2
          },
          "yaxis": {
           "automargin": true,
           "gridcolor": "white",
           "linecolor": "white",
           "ticks": "",
           "title": {
            "standoff": 15
           },
           "zerolinecolor": "white",
           "zerolinewidth": 2
          }
         }
        }
       }
      }
     },
     "metadata": {},
     "output_type": "display_data"
    }
   ],
   "source": [
    "# base_url = \"https://raw.githubusercontent.com/plotly/datasets/master/ply/\"\n",
    "# mesh_names = [\"sandal\", \"scissors\", \"shark\", \"walkman\"]\n",
    "# dataframes = {name: pd.read_csv(base_url + name + \"-ply.csv\") for name in mesh_names}\n",
    "\n",
    "import plotly.graph_objects as go\n",
    "\n",
    "fig = go.Figure()\n",
    "fig.add_trace(go.Mesh3d(x=dataframes[\"walkman\"].x, \n",
    "          y=dataframes[\"walkman\"].y,\n",
    "          z=dataframes[\"walkman\"].z,\n",
    "          i=dataframes[\"walkman\"].i,\n",
    "          j=dataframes[\"walkman\"].j,\n",
    "          k=dataframes[\"walkman\"].k\n",
    "))\n",
    "fig.show()"
   ]
  },
  {
   "cell_type": "code",
   "execution_count": 46,
   "metadata": {},
   "outputs": [
    {
     "data": {
      "application/vnd.plotly.v1+json": {
       "config": {
        "plotlyServerURL": "https://plot.ly"
       },
       "data": [
        {
         "marker": {
          "color": "red"
         },
         "mode": "markers",
         "type": "scatter3d",
         "x": [
          0
         ],
         "y": [
          0
         ],
         "z": [
          0
         ]
        },
        {
         "marker": {
          "color": "blue"
         },
         "mode": "lines",
         "type": "scatter3d",
         "x": [
          1,
          0.9921147013144779,
          0.9685831611286311,
          0.9297764858882515,
          0.8763066800438636,
          0.8090169943749475,
          0.7289686274214116,
          0.6374239897486896,
          0.5358267949789965,
          0.42577929156507266,
          0.30901699437494745,
          0.18738131458572493,
          0.06279051952931375,
          -0.06279051952931296,
          -0.18738131458572438,
          -0.30901699437494734,
          -0.4257792915650727,
          -0.5358267949789969,
          -0.6374239897486897,
          -0.7289686274214117,
          -0.8090169943749477,
          -0.8763066800438638,
          -0.9297764858882517,
          -0.9685831611286313,
          -0.992114701314478,
          -1,
          -0.9921147013144778,
          -0.968583161128631,
          -0.9297764858882511,
          -0.8763066800438631,
          -0.8090169943749467,
          -0.7289686274214106,
          -0.6374239897486889,
          -0.5358267949789955,
          -0.4257792915650713,
          -0.3090169943749459,
          -0.18738131458572288,
          -0.06279051952931143,
          0.0627905195293155,
          0.18738131458572688,
          0.3090169943749498,
          0.42577929156507505,
          0.535826794978999,
          0.6374239897486913,
          0.7289686274214131,
          0.8090169943749489,
          0.8763066800438648,
          0.9297764858882525,
          0.9685831611286319,
          0.9921147013144782,
          1
         ],
         "y": [
          0,
          0.12533323356430426,
          0.2486898871648548,
          0.3681245526846779,
          0.4817536741017153,
          0.5877852522924731,
          0.6845471059286887,
          0.7705132427757893,
          0.8443279255020151,
          0.9048270524660196,
          0.9510565162951535,
          0.9822872507286886,
          0.9980267284282716,
          0.9980267284282716,
          0.9822872507286887,
          0.9510565162951536,
          0.9048270524660195,
          0.844327925502015,
          0.7705132427757893,
          0.6845471059286885,
          0.5877852522924728,
          0.4817536741017148,
          0.3681245526846773,
          0.24868988716485396,
          0.1253332335643032,
          -7.657137397853899e-16,
          -0.12533323356430473,
          -0.24868988716485543,
          -0.36812455268467875,
          -0.48175367410171616,
          -0.5877852522924741,
          -0.6845471059286896,
          -0.7705132427757899,
          -0.8443279255020157,
          -0.9048270524660201,
          -0.9510565162951541,
          -0.982287250728689,
          -0.9980267284282717,
          -0.9980267284282714,
          -0.9822872507286883,
          -0.9510565162951529,
          -0.9048270524660184,
          -0.8443279255020135,
          -0.7705132427757879,
          -0.684547105928687,
          -0.5877852522924711,
          -0.481753674101713,
          -0.36812455268467537,
          -0.2486898871648519,
          -0.12533323356430112,
          2.6645352591003757e-15
         ],
         "z": [
          0,
          0,
          0,
          0,
          0,
          0,
          0,
          0,
          0,
          0,
          0,
          0,
          0,
          0,
          0,
          0,
          0,
          0,
          0,
          0,
          0,
          0,
          0,
          0,
          0,
          0,
          0,
          0,
          0,
          0,
          0,
          0,
          0,
          0,
          0,
          0,
          0,
          0,
          0,
          0,
          0,
          0,
          0,
          0,
          0,
          0,
          0,
          0,
          0,
          0,
          0
         ]
        },
        {
         "marker": {
          "color": "green"
         },
         "mode": "lines",
         "type": "scatter3d",
         "x": [
          0,
          0
         ],
         "y": [
          0,
          0
         ],
         "z": [
          0,
          1
         ]
        },
        {
         "marker": {
          "color": "purple"
         },
         "mode": "lines",
         "type": "scatter3d",
         "x": [
          0,
          1
         ],
         "y": [
          0,
          1
         ],
         "z": [
          0,
          0.5
         ]
        },
        {
         "marker": {
          "color": "orange"
         },
         "mode": "lines",
         "type": "scatter3d",
         "x": [
          0,
          -0.9510565162951535,
          -0.5877852522924731,
          0.587785252292473,
          0.9510565162951536,
          0
         ],
         "y": [
          1,
          0.30901699437494745,
          -0.8090169943749473,
          -0.8090169943749475,
          0.3090169943749473,
          1
         ],
         "z": [
          0,
          0,
          0,
          0,
          0,
          0
         ]
        },
        {
         "type": "mesh3d",
         "x": [
          0.25,
          0.5,
          0.25,
          0,
          1,
          1,
          0
         ],
         "y": [
          0.5,
          0.25,
          0.25,
          0,
          0,
          1,
          1
         ],
         "z": [
          0,
          0,
          0,
          0,
          0,
          0,
          0
         ]
        },
        {
         "type": "mesh3d",
         "x": [
          0,
          0.25,
          0.25,
          0
         ],
         "y": [
          0,
          0.25,
          0.5,
          1
         ],
         "z": [
          0,
          0,
          0,
          0
         ]
        }
       ],
       "layout": {
        "template": {
         "data": {
          "bar": [
           {
            "error_x": {
             "color": "#2a3f5f"
            },
            "error_y": {
             "color": "#2a3f5f"
            },
            "marker": {
             "line": {
              "color": "#E5ECF6",
              "width": 0.5
             },
             "pattern": {
              "fillmode": "overlay",
              "size": 10,
              "solidity": 0.2
             }
            },
            "type": "bar"
           }
          ],
          "barpolar": [
           {
            "marker": {
             "line": {
              "color": "#E5ECF6",
              "width": 0.5
             },
             "pattern": {
              "fillmode": "overlay",
              "size": 10,
              "solidity": 0.2
             }
            },
            "type": "barpolar"
           }
          ],
          "carpet": [
           {
            "aaxis": {
             "endlinecolor": "#2a3f5f",
             "gridcolor": "white",
             "linecolor": "white",
             "minorgridcolor": "white",
             "startlinecolor": "#2a3f5f"
            },
            "baxis": {
             "endlinecolor": "#2a3f5f",
             "gridcolor": "white",
             "linecolor": "white",
             "minorgridcolor": "white",
             "startlinecolor": "#2a3f5f"
            },
            "type": "carpet"
           }
          ],
          "choropleth": [
           {
            "colorbar": {
             "outlinewidth": 0,
             "ticks": ""
            },
            "type": "choropleth"
           }
          ],
          "contour": [
           {
            "colorbar": {
             "outlinewidth": 0,
             "ticks": ""
            },
            "colorscale": [
             [
              0,
              "#0d0887"
             ],
             [
              0.1111111111111111,
              "#46039f"
             ],
             [
              0.2222222222222222,
              "#7201a8"
             ],
             [
              0.3333333333333333,
              "#9c179e"
             ],
             [
              0.4444444444444444,
              "#bd3786"
             ],
             [
              0.5555555555555556,
              "#d8576b"
             ],
             [
              0.6666666666666666,
              "#ed7953"
             ],
             [
              0.7777777777777778,
              "#fb9f3a"
             ],
             [
              0.8888888888888888,
              "#fdca26"
             ],
             [
              1,
              "#f0f921"
             ]
            ],
            "type": "contour"
           }
          ],
          "contourcarpet": [
           {
            "colorbar": {
             "outlinewidth": 0,
             "ticks": ""
            },
            "type": "contourcarpet"
           }
          ],
          "heatmap": [
           {
            "colorbar": {
             "outlinewidth": 0,
             "ticks": ""
            },
            "colorscale": [
             [
              0,
              "#0d0887"
             ],
             [
              0.1111111111111111,
              "#46039f"
             ],
             [
              0.2222222222222222,
              "#7201a8"
             ],
             [
              0.3333333333333333,
              "#9c179e"
             ],
             [
              0.4444444444444444,
              "#bd3786"
             ],
             [
              0.5555555555555556,
              "#d8576b"
             ],
             [
              0.6666666666666666,
              "#ed7953"
             ],
             [
              0.7777777777777778,
              "#fb9f3a"
             ],
             [
              0.8888888888888888,
              "#fdca26"
             ],
             [
              1,
              "#f0f921"
             ]
            ],
            "type": "heatmap"
           }
          ],
          "histogram": [
           {
            "marker": {
             "pattern": {
              "fillmode": "overlay",
              "size": 10,
              "solidity": 0.2
             }
            },
            "type": "histogram"
           }
          ],
          "histogram2d": [
           {
            "colorbar": {
             "outlinewidth": 0,
             "ticks": ""
            },
            "colorscale": [
             [
              0,
              "#0d0887"
             ],
             [
              0.1111111111111111,
              "#46039f"
             ],
             [
              0.2222222222222222,
              "#7201a8"
             ],
             [
              0.3333333333333333,
              "#9c179e"
             ],
             [
              0.4444444444444444,
              "#bd3786"
             ],
             [
              0.5555555555555556,
              "#d8576b"
             ],
             [
              0.6666666666666666,
              "#ed7953"
             ],
             [
              0.7777777777777778,
              "#fb9f3a"
             ],
             [
              0.8888888888888888,
              "#fdca26"
             ],
             [
              1,
              "#f0f921"
             ]
            ],
            "type": "histogram2d"
           }
          ],
          "histogram2dcontour": [
           {
            "colorbar": {
             "outlinewidth": 0,
             "ticks": ""
            },
            "colorscale": [
             [
              0,
              "#0d0887"
             ],
             [
              0.1111111111111111,
              "#46039f"
             ],
             [
              0.2222222222222222,
              "#7201a8"
             ],
             [
              0.3333333333333333,
              "#9c179e"
             ],
             [
              0.4444444444444444,
              "#bd3786"
             ],
             [
              0.5555555555555556,
              "#d8576b"
             ],
             [
              0.6666666666666666,
              "#ed7953"
             ],
             [
              0.7777777777777778,
              "#fb9f3a"
             ],
             [
              0.8888888888888888,
              "#fdca26"
             ],
             [
              1,
              "#f0f921"
             ]
            ],
            "type": "histogram2dcontour"
           }
          ],
          "mesh3d": [
           {
            "colorbar": {
             "outlinewidth": 0,
             "ticks": ""
            },
            "type": "mesh3d"
           }
          ],
          "parcoords": [
           {
            "line": {
             "colorbar": {
              "outlinewidth": 0,
              "ticks": ""
             }
            },
            "type": "parcoords"
           }
          ],
          "pie": [
           {
            "automargin": true,
            "type": "pie"
           }
          ],
          "scatter": [
           {
            "fillpattern": {
             "fillmode": "overlay",
             "size": 10,
             "solidity": 0.2
            },
            "type": "scatter"
           }
          ],
          "scatter3d": [
           {
            "line": {
             "colorbar": {
              "outlinewidth": 0,
              "ticks": ""
             }
            },
            "marker": {
             "colorbar": {
              "outlinewidth": 0,
              "ticks": ""
             }
            },
            "type": "scatter3d"
           }
          ],
          "scattercarpet": [
           {
            "marker": {
             "colorbar": {
              "outlinewidth": 0,
              "ticks": ""
             }
            },
            "type": "scattercarpet"
           }
          ],
          "scattergeo": [
           {
            "marker": {
             "colorbar": {
              "outlinewidth": 0,
              "ticks": ""
             }
            },
            "type": "scattergeo"
           }
          ],
          "scattergl": [
           {
            "marker": {
             "colorbar": {
              "outlinewidth": 0,
              "ticks": ""
             }
            },
            "type": "scattergl"
           }
          ],
          "scattermap": [
           {
            "marker": {
             "colorbar": {
              "outlinewidth": 0,
              "ticks": ""
             }
            },
            "type": "scattermap"
           }
          ],
          "scattermapbox": [
           {
            "marker": {
             "colorbar": {
              "outlinewidth": 0,
              "ticks": ""
             }
            },
            "type": "scattermapbox"
           }
          ],
          "scatterpolar": [
           {
            "marker": {
             "colorbar": {
              "outlinewidth": 0,
              "ticks": ""
             }
            },
            "type": "scatterpolar"
           }
          ],
          "scatterpolargl": [
           {
            "marker": {
             "colorbar": {
              "outlinewidth": 0,
              "ticks": ""
             }
            },
            "type": "scatterpolargl"
           }
          ],
          "scatterternary": [
           {
            "marker": {
             "colorbar": {
              "outlinewidth": 0,
              "ticks": ""
             }
            },
            "type": "scatterternary"
           }
          ],
          "surface": [
           {
            "colorbar": {
             "outlinewidth": 0,
             "ticks": ""
            },
            "colorscale": [
             [
              0,
              "#0d0887"
             ],
             [
              0.1111111111111111,
              "#46039f"
             ],
             [
              0.2222222222222222,
              "#7201a8"
             ],
             [
              0.3333333333333333,
              "#9c179e"
             ],
             [
              0.4444444444444444,
              "#bd3786"
             ],
             [
              0.5555555555555556,
              "#d8576b"
             ],
             [
              0.6666666666666666,
              "#ed7953"
             ],
             [
              0.7777777777777778,
              "#fb9f3a"
             ],
             [
              0.8888888888888888,
              "#fdca26"
             ],
             [
              1,
              "#f0f921"
             ]
            ],
            "type": "surface"
           }
          ],
          "table": [
           {
            "cells": {
             "fill": {
              "color": "#EBF0F8"
             },
             "line": {
              "color": "white"
             }
            },
            "header": {
             "fill": {
              "color": "#C8D4E3"
             },
             "line": {
              "color": "white"
             }
            },
            "type": "table"
           }
          ]
         },
         "layout": {
          "annotationdefaults": {
           "arrowcolor": "#2a3f5f",
           "arrowhead": 0,
           "arrowwidth": 1
          },
          "autotypenumbers": "strict",
          "coloraxis": {
           "colorbar": {
            "outlinewidth": 0,
            "ticks": ""
           }
          },
          "colorscale": {
           "diverging": [
            [
             0,
             "#8e0152"
            ],
            [
             0.1,
             "#c51b7d"
            ],
            [
             0.2,
             "#de77ae"
            ],
            [
             0.3,
             "#f1b6da"
            ],
            [
             0.4,
             "#fde0ef"
            ],
            [
             0.5,
             "#f7f7f7"
            ],
            [
             0.6,
             "#e6f5d0"
            ],
            [
             0.7,
             "#b8e186"
            ],
            [
             0.8,
             "#7fbc41"
            ],
            [
             0.9,
             "#4d9221"
            ],
            [
             1,
             "#276419"
            ]
           ],
           "sequential": [
            [
             0,
             "#0d0887"
            ],
            [
             0.1111111111111111,
             "#46039f"
            ],
            [
             0.2222222222222222,
             "#7201a8"
            ],
            [
             0.3333333333333333,
             "#9c179e"
            ],
            [
             0.4444444444444444,
             "#bd3786"
            ],
            [
             0.5555555555555556,
             "#d8576b"
            ],
            [
             0.6666666666666666,
             "#ed7953"
            ],
            [
             0.7777777777777778,
             "#fb9f3a"
            ],
            [
             0.8888888888888888,
             "#fdca26"
            ],
            [
             1,
             "#f0f921"
            ]
           ],
           "sequentialminus": [
            [
             0,
             "#0d0887"
            ],
            [
             0.1111111111111111,
             "#46039f"
            ],
            [
             0.2222222222222222,
             "#7201a8"
            ],
            [
             0.3333333333333333,
             "#9c179e"
            ],
            [
             0.4444444444444444,
             "#bd3786"
            ],
            [
             0.5555555555555556,
             "#d8576b"
            ],
            [
             0.6666666666666666,
             "#ed7953"
            ],
            [
             0.7777777777777778,
             "#fb9f3a"
            ],
            [
             0.8888888888888888,
             "#fdca26"
            ],
            [
             1,
             "#f0f921"
            ]
           ]
          },
          "colorway": [
           "#636efa",
           "#EF553B",
           "#00cc96",
           "#ab63fa",
           "#FFA15A",
           "#19d3f3",
           "#FF6692",
           "#B6E880",
           "#FF97FF",
           "#FECB52"
          ],
          "font": {
           "color": "#2a3f5f"
          },
          "geo": {
           "bgcolor": "white",
           "lakecolor": "white",
           "landcolor": "#E5ECF6",
           "showlakes": true,
           "showland": true,
           "subunitcolor": "white"
          },
          "hoverlabel": {
           "align": "left"
          },
          "hovermode": "closest",
          "mapbox": {
           "style": "light"
          },
          "paper_bgcolor": "white",
          "plot_bgcolor": "#E5ECF6",
          "polar": {
           "angularaxis": {
            "gridcolor": "white",
            "linecolor": "white",
            "ticks": ""
           },
           "bgcolor": "#E5ECF6",
           "radialaxis": {
            "gridcolor": "white",
            "linecolor": "white",
            "ticks": ""
           }
          },
          "scene": {
           "xaxis": {
            "backgroundcolor": "#E5ECF6",
            "gridcolor": "white",
            "gridwidth": 2,
            "linecolor": "white",
            "showbackground": true,
            "ticks": "",
            "zerolinecolor": "white"
           },
           "yaxis": {
            "backgroundcolor": "#E5ECF6",
            "gridcolor": "white",
            "gridwidth": 2,
            "linecolor": "white",
            "showbackground": true,
            "ticks": "",
            "zerolinecolor": "white"
           },
           "zaxis": {
            "backgroundcolor": "#E5ECF6",
            "gridcolor": "white",
            "gridwidth": 2,
            "linecolor": "white",
            "showbackground": true,
            "ticks": "",
            "zerolinecolor": "white"
           }
          },
          "shapedefaults": {
           "line": {
            "color": "#2a3f5f"
           }
          },
          "ternary": {
           "aaxis": {
            "gridcolor": "white",
            "linecolor": "white",
            "ticks": ""
           },
           "baxis": {
            "gridcolor": "white",
            "linecolor": "white",
            "ticks": ""
           },
           "bgcolor": "#E5ECF6",
           "caxis": {
            "gridcolor": "white",
            "linecolor": "white",
            "ticks": ""
           }
          },
          "title": {
           "x": 0.05
          },
          "xaxis": {
           "automargin": true,
           "gridcolor": "white",
           "linecolor": "white",
           "ticks": "",
           "title": {
            "standoff": 15
           },
           "zerolinecolor": "white",
           "zerolinewidth": 2
          },
          "yaxis": {
           "automargin": true,
           "gridcolor": "white",
           "linecolor": "white",
           "ticks": "",
           "title": {
            "standoff": 15
           },
           "zerolinecolor": "white",
           "zerolinewidth": 2
          }
         }
        }
       }
      }
     },
     "metadata": {},
     "output_type": "display_data"
    }
   ],
   "source": [
    "from kvrrj.geometry.to_plotly import (\n",
    "    to_plotly,\n",
    "    Point2D,\n",
    "    Vector2D,\n",
    "    Vector3D,\n",
    "    Point3D,\n",
    "    Arc2D,\n",
    "    Arc3D,\n",
    "    Plane,\n",
    "    Ray2D,\n",
    "    Ray3D,\n",
    "    LineSegment2D,\n",
    "    Polyline2D,\n",
    "    Polyline3D,\n",
    "    LineSegment3D,\n",
    "    Face3D,\n",
    "    Polygon2D\n",
    ")\n",
    "from kvrrj.geometry.to_shapely import to_shapely\n",
    "\n",
    "\n",
    "import plotly.graph_objects as go\n",
    "# import plotly.io as pio\n",
    "# pio.renderers.default = \"vscode\"\n",
    "from plotly.subplots import make_subplots\n",
    "\n",
    "# creta efig with two subplots, one for 2D and one for 3D\n",
    "# fig = go.Figure()\n",
    "# fig.add_trace(to_plotly(Point2D(), marker={\"color\": \"red\"}))\n",
    "# fig.add_trace(to_plotly(Arc2D(c=Point2D(), r=1), marker={\"color\": \"blue\"}))\n",
    "# fig.add_trace(to_plotly(Ray2D(p=Point2D(), v=Vector2D(0, 1)), marker={\"color\": \"green\"}))\n",
    "# fig.add_trace(to_plotly(LineSegment2D(p=Point2D(), v=Vector2D(1, 1)), marker={\"color\": \"purple\"}))\n",
    "# fig.add_trace(to_plotly(Polyline2D.from_polygon(Polygon2D.from_regular_polygon(number_of_sides=5)), marker={\"color\": \"orange\"}))\n",
    "# fig.show()\n",
    "\n",
    "fig = go.Figure()\n",
    "fig.add_trace(to_plotly(Point3D(), marker={\"color\": \"red\"}))\n",
    "fig.add_trace(to_plotly(Arc3D(plane=Plane(), radius=1), marker={\"color\": \"blue\"}))\n",
    "fig.add_trace(to_plotly(Ray3D(p=Point3D(), v=Vector3D(0, 0, 1)), marker={\"color\": \"green\"}))\n",
    "fig.add_trace(to_plotly(LineSegment3D(p=Point3D(), v=Vector3D(1, 1, 0.5)), marker={\"color\": \"purple\"}))\n",
    "fig.add_trace(\n",
    "    to_plotly(\n",
    "        Polyline3D.from_polyline2d(\n",
    "            Polyline2D.from_polygon(Polygon2D.from_regular_polygon(number_of_sides=5))\n",
    "        ),\n",
    "        marker={\"color\": \"orange\"},\n",
    "    )\n",
    ")\n",
    "fig.add_traces(to_plotly(\n",
    "    Face3D(boundary=[Point3D(), Point3D(1, 0, 0), Point3D(1, 1, 0), Point3D(0, 1, 0)], holes=[[Point3D(0.25, 0.25, 0), Point3D(0.25, 0.5, 0), Point3D(0.5, 0.25)]]),\n",
    "))\n",
    "fig.show()\n",
    "\n",
    "\n"
   ]
  }
 ],
 "metadata": {
  "kernelspec": {
   "display_name": ".venv",
   "language": "python",
   "name": "python3"
  },
  "language_info": {
   "codemirror_mode": {
    "name": "ipython",
    "version": 3
   },
   "file_extension": ".py",
   "mimetype": "text/x-python",
   "name": "python",
   "nbconvert_exporter": "python",
   "pygments_lexer": "ipython3",
   "version": "3.10.16"
  }
 },
 "nbformat": 4,
 "nbformat_minor": 2
}
