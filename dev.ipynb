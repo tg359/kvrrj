{
 "cells": [
  {
   "cell_type": "code",
   "execution_count": 4,
   "metadata": {},
   "outputs": [],
   "source": [
    "from ladybug.epw import EPW\n",
    "\n",
    "# load test data from a file\n",
    "epw_file = (\n",
    "    r\"C:\\Users\\tgerrish\\Documents\\GitHub\\target_dir\\kvrrj\\tests\\assets\\example.epw\"\n",
    ")\n",
    "epw = EPW(epw_file)\n"
   ]
  },
  {
   "cell_type": "code",
   "execution_count": 271,
   "metadata": {},
   "outputs": [
    {
     "data": {
      "text/plain": [
       "[(1, 2.0),\n",
       " (1, 2.0),\n",
       " (2.0, 4.0),\n",
       " (2.0, 4.0),\n",
       " (4.0, 6.0),\n",
       " (4.0, 6.0),\n",
       " (6.0, 8.0),\n",
       " (6.0, 8.0)]"
      ]
     },
     "execution_count": 271,
     "metadata": {},
     "output_type": "execute_result"
    }
   ],
   "source": [
    "import scipy\n",
    "from kvrrj.wind import Wind\n",
    "from datetime import datetime, timedelta\n",
    "import pandas as pd\n",
    "import numpy as np\n",
    "from collections import defaultdict\n",
    "\n",
    "w = Wind.from_epw(epw)\n",
    "\n",
    "# create data\n",
    "datetimes = [datetime(2021, 1, 1, 0, 0) + timedelta(hours=i) for i in range(8)]\n",
    "ws = [1, 2, 3, 4, 5, 6, 7, 8]\n",
    "wd = [0, 45, 90, 135, 180, 225, 270, 315]\n",
    "other_data = [1, 2, 3, 4, 5, 6, 7, 8]\n",
    "other_bins = [0, 2, 4, 6, 8]\n",
    "# create wind object\n",
    "w = Wind(\n",
    "    wind_speeds=ws,\n",
    "    wind_directions=wd,\n",
    "    datetimes=datetimes,\n",
    "    height_above_ground=10,\n",
    ")\n",
    "\n",
    "binned_data = w._bin_other_data(other_bins=other_bins)\n",
    "binned_data"
   ]
  },
  {
   "cell_type": "code",
   "execution_count": null,
   "metadata": {},
   "outputs": [
    {
     "data": {
      "text/html": [
       "<div>\n",
       "<style scoped>\n",
       "    .dataframe tbody tr th:only-of-type {\n",
       "        vertical-align: middle;\n",
       "    }\n",
       "\n",
       "    .dataframe tbody tr th {\n",
       "        vertical-align: top;\n",
       "    }\n",
       "\n",
       "    .dataframe thead th {\n",
       "        text-align: right;\n",
       "    }\n",
       "</style>\n",
       "<table border=\"1\" class=\"dataframe\">\n",
       "  <thead>\n",
       "    <tr style=\"text-align: right;\">\n",
       "      <th></th>\n",
       "      <th>Wind Speed (m/s)</th>\n",
       "      <th>0</th>\n",
       "      <th>1</th>\n",
       "    </tr>\n",
       "  </thead>\n",
       "  <tbody>\n",
       "    <tr>\n",
       "      <th>0</th>\n",
       "      <td>7.7</td>\n",
       "      <td>4</td>\n",
       "      <td>(7.0, 8.75)</td>\n",
       "    </tr>\n",
       "    <tr>\n",
       "      <th>1</th>\n",
       "      <td>1.0</td>\n",
       "      <td>0</td>\n",
       "      <td>(0.0, 1.75)</td>\n",
       "    </tr>\n",
       "    <tr>\n",
       "      <th>2</th>\n",
       "      <td>2.6</td>\n",
       "      <td>1</td>\n",
       "      <td>(1.75, 3.5)</td>\n",
       "    </tr>\n",
       "    <tr>\n",
       "      <th>3</th>\n",
       "      <td>1.5</td>\n",
       "      <td>0</td>\n",
       "      <td>(0.0, 1.75)</td>\n",
       "    </tr>\n",
       "    <tr>\n",
       "      <th>4</th>\n",
       "      <td>2.1</td>\n",
       "      <td>1</td>\n",
       "      <td>(1.75, 3.5)</td>\n",
       "    </tr>\n",
       "    <tr>\n",
       "      <th>...</th>\n",
       "      <td>...</td>\n",
       "      <td>...</td>\n",
       "      <td>...</td>\n",
       "    </tr>\n",
       "    <tr>\n",
       "      <th>8755</th>\n",
       "      <td>6.7</td>\n",
       "      <td>3</td>\n",
       "      <td>(5.25, 7.0)</td>\n",
       "    </tr>\n",
       "    <tr>\n",
       "      <th>8756</th>\n",
       "      <td>4.1</td>\n",
       "      <td>2</td>\n",
       "      <td>(3.5, 5.25)</td>\n",
       "    </tr>\n",
       "    <tr>\n",
       "      <th>8757</th>\n",
       "      <td>4.6</td>\n",
       "      <td>2</td>\n",
       "      <td>(3.5, 5.25)</td>\n",
       "    </tr>\n",
       "    <tr>\n",
       "      <th>8758</th>\n",
       "      <td>5.1</td>\n",
       "      <td>2</td>\n",
       "      <td>(3.5, 5.25)</td>\n",
       "    </tr>\n",
       "    <tr>\n",
       "      <th>8759</th>\n",
       "      <td>7.7</td>\n",
       "      <td>4</td>\n",
       "      <td>(7.0, 8.75)</td>\n",
       "    </tr>\n",
       "  </tbody>\n",
       "</table>\n",
       "<p>8760 rows × 3 columns</p>\n",
       "</div>"
      ],
      "text/plain": [
       "      Wind Speed (m/s)  0            1\n",
       "0                  7.7  4  (7.0, 8.75)\n",
       "1                  1.0  0  (0.0, 1.75)\n",
       "2                  2.6  1  (1.75, 3.5)\n",
       "3                  1.5  0  (0.0, 1.75)\n",
       "4                  2.1  1  (1.75, 3.5)\n",
       "...                ... ..          ...\n",
       "8755               6.7  3  (5.25, 7.0)\n",
       "8756               4.1  2  (3.5, 5.25)\n",
       "8757               4.6  2  (3.5, 5.25)\n",
       "8758               5.1  2  (3.5, 5.25)\n",
       "8759               7.7  4  (7.0, 8.75)\n",
       "\n",
       "[8760 rows x 3 columns]"
      ]
     },
     "execution_count": 191,
     "metadata": {},
     "output_type": "execute_result"
    }
   ],
   "source": [
    "\n",
    "\n",
    "right = True\n",
    "direction_data = w.wind_directions\n",
    "other_data = w.wind_speeds\n",
    "\n",
    "directions = 4\n",
    "direction_bins = np.concat([[0], np.unique(w._direction_bins(directions)), [360]])\n",
    "other_bins = np.linspace(min(other_data), max(other_data), 11)\n",
    "\n",
    "if max(other_bins) < max(other_data):\n",
    "    raise ValueError(\"The maximum value of the bins is less than the maximum value of the data\")\n",
    "\n",
    "# NOTE - data is binned in the form of [i, j) where the leftmost value is included and the rightmost value is excluded]\n",
    "H, edge_x, edge_y, binnumber = scipy.stats.binned_statistic_2d(\n",
    "    direction_data,\n",
    "    other_data,\n",
    "    None,\n",
    "    bins=(direction_bins, other_bins),\n",
    "    statistic=\"count\",\n",
    "    expand_binnumbers=True,\n",
    ")\n",
    "\n",
    "#combine the ends of H\n",
    "H[0, :] = (H[-1, :] + H[0, :])\n",
    "H = H[:-1, :]\n",
    "\n",
    "# combine the ends of binnumber[0]\n",
    "x_indices = np.where(binnumber[0] == max(binnumber[0]), 1, binnumber[0]) -1\n",
    "y_indices = binnumber[1] - 1\n",
    "\n",
    "# construct the bin labels\n",
    "x_bins = [tuple(i) for i in w._direction_bins(directions)]\n",
    "y_bins = [tuple(i) for i in np.lib.stride_tricks.sliding_window_view(other_bins, 2).tolist()]\n",
    "\n",
    "# x_bins_str = [f\"[{i}-{j})\" for i, j in w._direction_bins(directions)]\n",
    "# x_bins_str = [f\"{i}\" for i in w._direction_midpoints(directions)]\n",
    "# y_bins_str = [f\"[{i}-{j})\" for i, j in np.lib.stride_tricks.sliding_window_view(other_bins, 2).round(3)]\n",
    "# y_bins_str[-1] = y_bins_str[-1].replace(\")\", \"]\")\n",
    "# y_bins_str\n",
    "\n",
    "pd.concat([w.wd.reset_index(drop=True), pd.Series(x_indices), pd.Series([x_bins[i] for i in x_indices])], axis=1)\n",
    "\n",
    "pd.concat(\n",
    "    [\n",
    "        w.ws.reset_index(drop=True),\n",
    "        pd.Series(y_indices),\n",
    "        pd.Series([y_bins[i] for i in y_indices]),\n",
    "    ],\n",
    "    axis=1,\n",
    ")"
   ]
  },
  {
   "cell_type": "code",
   "execution_count": 44,
   "metadata": {},
   "outputs": [
    {
     "data": {
      "text/plain": [
       "array([[300.,  60.],\n",
       "       [ 60., 180.],\n",
       "       [180., 300.]])"
      ]
     },
     "execution_count": 44,
     "metadata": {},
     "output_type": "execute_result"
    }
   ],
   "source": [
    "import pandas as pd\n",
    "import numpy as np\n",
    "directions = 3\n",
    "right = True\n",
    "boundaries = [(i.left - (360 / directions / 2)) % 360 for i in pd.interval_range(start=0, end=360, periods=directions).values]\n",
    "boundaries.append(boundaries[0])\n",
    "np.lib.stride_tricks.sliding_window_view(boundaries, 2, axis=0)"
   ]
  },
  {
   "cell_type": "code",
   "execution_count": 16,
   "metadata": {},
   "outputs": [
    {
     "name": "stderr",
     "output_type": "stream",
     "text": [
      "100%|██████████| 9/9 [00:00<00:00, 3763.58it/s]\n"
     ]
    },
    {
     "data": {
      "text/plain": [
       "(37, 27)"
      ]
     },
     "execution_count": 16,
     "metadata": {},
     "output_type": "execute_result"
    }
   ],
   "source": [
    "from kvrrj.solar import tilt_orientation_factor, EPW, azimuthal_radiation\n",
    "\n",
    "\n",
    "epw = EPW(r\"C:\\Users\\tgerrish\\Documents\\GitHub\\target_dir\\kvrrj\\tests\\assets\\example.epw\")\n",
    "epw\n",
    "tilt_orientation_factor(epw).shape\n",
    "\n",
    "# azimuthal_radiation(epw)"
   ]
  }
 ],
 "metadata": {
  "kernelspec": {
   "display_name": ".venv",
   "language": "python",
   "name": "python3"
  },
  "language_info": {
   "codemirror_mode": {
    "name": "ipython",
    "version": 3
   },
   "file_extension": ".py",
   "mimetype": "text/x-python",
   "name": "python",
   "nbconvert_exporter": "python",
   "pygments_lexer": "ipython3",
   "version": "3.10.16"
  }
 },
 "nbformat": 4,
 "nbformat_minor": 2
}
