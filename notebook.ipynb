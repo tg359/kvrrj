{
 "cells": [
  {
   "cell_type": "code",
   "execution_count": null,
   "metadata": {},
   "outputs": [
    {
     "data": {
      "text/plain": [
       "Mesh3D (30 faces) (25 vertices)"
      ]
     },
     "execution_count": 52,
     "metadata": {},
     "output_type": "execute_result"
    }
   ],
   "source": [
    "import numpy as np\n",
    "import pyvista as pv\n",
    "from ladybug_geometry.geometry3d import Mesh3D, Point3D, Polyline3D\n",
    "\n",
    "# create set of random points in a box 5 * 5 * 1\n",
    "points = np.random.rand(25, 3) * [5, 5, 1]\n",
    "\n",
    "# create a mesh from the points\n",
    "cloud = pv.PolyData(points)\n",
    "m = cloud.delaunay_2d()\n",
    "\n",
    "# convert to ladybug mesh\n",
    "mesh = Mesh3D(vertices=[Point3D(*i) for i in m.points], faces=[tuple(i.tolist()) for i in np.array(np.split(m.faces, len(m.faces)/4))[:, 1:]])\n",
    "\n",
    "# remove faces from the mesh where edges are longer than 1\n",
    "alpha = 1\n",
    "mask = [any(i.length > 1 for i in edges.segments) for edges in mesh.face_edges]\n",
    "mesh = mesh.remove_faces_only(mask)\n",
    "\n",
    "# plot the mesh in 3d\n",
    "\n"
   ]
  },
  {
   "cell_type": "code",
   "execution_count": 62,
   "metadata": {},
   "outputs": [
    {
     "ename": "ModuleNotFoundError",
     "evalue": "No module named 'pymesh2'",
     "output_type": "error",
     "traceback": [
      "\u001b[1;31m---------------------------------------------------------------------------\u001b[0m",
      "\u001b[1;31mModuleNotFoundError\u001b[0m                       Traceback (most recent call last)",
      "Cell \u001b[1;32mIn[62], line 3\u001b[0m\n\u001b[0;32m      1\u001b[0m \u001b[38;5;28;01mfrom\u001b[39;00m\u001b[38;5;250m \u001b[39m\u001b[38;5;21;01mkvrrj\u001b[39;00m\u001b[38;5;21;01m.\u001b[39;00m\u001b[38;5;21;01mgeometry\u001b[39;00m\u001b[38;5;21;01m.\u001b[39;00m\u001b[38;5;21;01micosphere\u001b[39;00m\u001b[38;5;250m \u001b[39m\u001b[38;5;28;01mimport\u001b[39;00m create_icosphere\n\u001b[0;32m      2\u001b[0m \u001b[38;5;28;01mfrom\u001b[39;00m\u001b[38;5;250m \u001b[39m\u001b[38;5;21;01mladybug_geometry\u001b[39;00m\u001b[38;5;21;01m.\u001b[39;00m\u001b[38;5;21;01minterop\u001b[39;00m\u001b[38;5;21;01m.\u001b[39;00m\u001b[38;5;21;01mstl\u001b[39;00m\u001b[38;5;250m \u001b[39m\u001b[38;5;28;01mimport\u001b[39;00m STL\n\u001b[1;32m----> 3\u001b[0m \u001b[38;5;28;01mimport\u001b[39;00m\u001b[38;5;250m \u001b[39m\u001b[38;5;21;01mpymesh2\u001b[39;00m\n\u001b[0;32m      5\u001b[0m m \u001b[38;5;241m=\u001b[39m create_icosphere(\u001b[38;5;241m2\u001b[39m)\n\u001b[0;32m      6\u001b[0m m\u001b[38;5;241m.\u001b[39mto_stl(\u001b[38;5;124m\"\u001b[39m\u001b[38;5;124m.\u001b[39m\u001b[38;5;124m\"\u001b[39m, \u001b[38;5;124m\"\u001b[39m\u001b[38;5;124mpolyhedron.stl\u001b[39m\u001b[38;5;124m\"\u001b[39m)\n",
      "\u001b[1;31mModuleNotFoundError\u001b[0m: No module named 'pymesh2'"
     ]
    }
   ],
   "source": [
    "from kvrrj.geometry.icosphere import create_icosphere\n",
    "from ladybug_geometry.interop.stl import STL\n",
    "import pymesh2\n",
    "\n",
    "m = create_icosphere(2)\n",
    "m.to_stl(\".\", \"polyhedron.stl\")\n",
    "pymesh2\n",
    "# STL(m.face_vertices, m.face_normals).to\n",
    "\n"
   ]
  },
  {
   "cell_type": "code",
   "execution_count": 63,
   "metadata": {},
   "outputs": [
    {
     "ename": "AttributeError",
     "evalue": "module 'pymesh' has no attribute 'test'",
     "output_type": "error",
     "traceback": [
      "\u001b[1;31m---------------------------------------------------------------------------\u001b[0m",
      "\u001b[1;31mAttributeError\u001b[0m                            Traceback (most recent call last)",
      "Cell \u001b[1;32mIn[63], line 2\u001b[0m\n\u001b[0;32m      1\u001b[0m \u001b[38;5;28;01mimport\u001b[39;00m\u001b[38;5;250m \u001b[39m\u001b[38;5;21;01mpymesh\u001b[39;00m\n\u001b[1;32m----> 2\u001b[0m \u001b[43mpymesh\u001b[49m\u001b[38;5;241;43m.\u001b[39;49m\u001b[43mtest\u001b[49m()\n",
      "\u001b[1;31mAttributeError\u001b[0m: module 'pymesh' has no attribute 'test'"
     ]
    }
   ],
   "source": [
    "import pymesh\n",
    "pymesh.test()\n"
   ]
  },
  {
   "cell_type": "code",
   "execution_count": 12,
   "metadata": {},
   "outputs": [
    {
     "data": {
      "text/plain": [
       "array([], dtype=int64)"
      ]
     },
     "execution_count": 12,
     "metadata": {},
     "output_type": "execute_result"
    }
   ],
   "source": [
    "import pyvista as pv\n",
    "import numpy as np\n",
    "\n",
    "# create set of random points in a box 5 * 5 * 2\n",
    "points = np.random.rand(50, 3) * [5, 5, 1]\n",
    "\n",
    "# genereate point cloud\n",
    "cloud = pv.PolyData(points)\n",
    "\n",
    "# create 3d delaunay triangulation\n",
    "surf = cloud.delaunay_2d()\n",
    "cloud.voro\n",
    "surft = cloud.triangulate()\n",
    "\n",
    "# remove faces where edge lemngth is greater than 0.5\n",
    "# surf = surf.\n",
    "\n"
   ]
  }
 ],
 "metadata": {
  "kernelspec": {
   "display_name": ".venv",
   "language": "python",
   "name": "python3"
  },
  "language_info": {
   "codemirror_mode": {
    "name": "ipython",
    "version": 3
   },
   "file_extension": ".py",
   "mimetype": "text/x-python",
   "name": "python",
   "nbconvert_exporter": "python",
   "pygments_lexer": "ipython3",
   "version": "3.10.16"
  }
 },
 "nbformat": 4,
 "nbformat_minor": 2
}
